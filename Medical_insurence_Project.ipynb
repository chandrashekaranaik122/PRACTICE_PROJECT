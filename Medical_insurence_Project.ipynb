{
 "cells": [
  {
   "cell_type": "markdown",
   "id": "2d2c7d69",
   "metadata": {},
   "source": [
    "# Medical insurence Project"
   ]
  },
  {
   "cell_type": "code",
   "execution_count": 1,
   "id": "7b1e1042",
   "metadata": {},
   "outputs": [],
   "source": [
    "import pandas as pd\n",
    "import numpy as np\n",
    "import seaborn as sns\n",
    "import matplotlib.pyplot as plt\n",
    "import warnings\n",
    "warnings.filterwarnings('ignore')"
   ]
  },
  {
   "cell_type": "markdown",
   "id": "0526d2e0",
   "metadata": {},
   "source": [
    "importing the nessasary lybraries for loading the dataset and analysing the dataset by graphs"
   ]
  },
  {
   "cell_type": "code",
   "execution_count": 2,
   "id": "af25a95a",
   "metadata": {},
   "outputs": [],
   "source": [
    "df=pd.read_csv('Medical_insurence.csv')"
   ]
  },
  {
   "cell_type": "markdown",
   "id": "1fb79695",
   "metadata": {},
   "source": [
    "loading the dataset with the help of pandas lybrary from my jupyternote book"
   ]
  },
  {
   "cell_type": "code",
   "execution_count": 3,
   "id": "8e526ed0",
   "metadata": {
    "scrolled": true
   },
   "outputs": [
    {
     "data": {
      "text/html": [
       "<div>\n",
       "<style scoped>\n",
       "    .dataframe tbody tr th:only-of-type {\n",
       "        vertical-align: middle;\n",
       "    }\n",
       "\n",
       "    .dataframe tbody tr th {\n",
       "        vertical-align: top;\n",
       "    }\n",
       "\n",
       "    .dataframe thead th {\n",
       "        text-align: right;\n",
       "    }\n",
       "</style>\n",
       "<table border=\"1\" class=\"dataframe\">\n",
       "  <thead>\n",
       "    <tr style=\"text-align: right;\">\n",
       "      <th></th>\n",
       "      <th>age</th>\n",
       "      <th>sex</th>\n",
       "      <th>bmi</th>\n",
       "      <th>children</th>\n",
       "      <th>smoker</th>\n",
       "      <th>region</th>\n",
       "      <th>charges</th>\n",
       "    </tr>\n",
       "  </thead>\n",
       "  <tbody>\n",
       "    <tr>\n",
       "      <th>0</th>\n",
       "      <td>19</td>\n",
       "      <td>female</td>\n",
       "      <td>27.900</td>\n",
       "      <td>0</td>\n",
       "      <td>yes</td>\n",
       "      <td>southwest</td>\n",
       "      <td>16884.92400</td>\n",
       "    </tr>\n",
       "    <tr>\n",
       "      <th>1</th>\n",
       "      <td>18</td>\n",
       "      <td>male</td>\n",
       "      <td>33.770</td>\n",
       "      <td>1</td>\n",
       "      <td>no</td>\n",
       "      <td>southeast</td>\n",
       "      <td>1725.55230</td>\n",
       "    </tr>\n",
       "    <tr>\n",
       "      <th>2</th>\n",
       "      <td>28</td>\n",
       "      <td>male</td>\n",
       "      <td>33.000</td>\n",
       "      <td>3</td>\n",
       "      <td>no</td>\n",
       "      <td>southeast</td>\n",
       "      <td>4449.46200</td>\n",
       "    </tr>\n",
       "    <tr>\n",
       "      <th>3</th>\n",
       "      <td>33</td>\n",
       "      <td>male</td>\n",
       "      <td>22.705</td>\n",
       "      <td>0</td>\n",
       "      <td>no</td>\n",
       "      <td>northwest</td>\n",
       "      <td>21984.47061</td>\n",
       "    </tr>\n",
       "    <tr>\n",
       "      <th>4</th>\n",
       "      <td>32</td>\n",
       "      <td>male</td>\n",
       "      <td>28.880</td>\n",
       "      <td>0</td>\n",
       "      <td>no</td>\n",
       "      <td>northwest</td>\n",
       "      <td>3866.85520</td>\n",
       "    </tr>\n",
       "    <tr>\n",
       "      <th>...</th>\n",
       "      <td>...</td>\n",
       "      <td>...</td>\n",
       "      <td>...</td>\n",
       "      <td>...</td>\n",
       "      <td>...</td>\n",
       "      <td>...</td>\n",
       "      <td>...</td>\n",
       "    </tr>\n",
       "    <tr>\n",
       "      <th>1333</th>\n",
       "      <td>50</td>\n",
       "      <td>male</td>\n",
       "      <td>30.970</td>\n",
       "      <td>3</td>\n",
       "      <td>no</td>\n",
       "      <td>northwest</td>\n",
       "      <td>10600.54830</td>\n",
       "    </tr>\n",
       "    <tr>\n",
       "      <th>1334</th>\n",
       "      <td>18</td>\n",
       "      <td>female</td>\n",
       "      <td>31.920</td>\n",
       "      <td>0</td>\n",
       "      <td>no</td>\n",
       "      <td>northeast</td>\n",
       "      <td>2205.98080</td>\n",
       "    </tr>\n",
       "    <tr>\n",
       "      <th>1335</th>\n",
       "      <td>18</td>\n",
       "      <td>female</td>\n",
       "      <td>36.850</td>\n",
       "      <td>0</td>\n",
       "      <td>no</td>\n",
       "      <td>southeast</td>\n",
       "      <td>1629.83350</td>\n",
       "    </tr>\n",
       "    <tr>\n",
       "      <th>1336</th>\n",
       "      <td>21</td>\n",
       "      <td>female</td>\n",
       "      <td>25.800</td>\n",
       "      <td>0</td>\n",
       "      <td>no</td>\n",
       "      <td>southwest</td>\n",
       "      <td>2007.94500</td>\n",
       "    </tr>\n",
       "    <tr>\n",
       "      <th>1337</th>\n",
       "      <td>61</td>\n",
       "      <td>female</td>\n",
       "      <td>29.070</td>\n",
       "      <td>0</td>\n",
       "      <td>yes</td>\n",
       "      <td>northwest</td>\n",
       "      <td>29141.36030</td>\n",
       "    </tr>\n",
       "  </tbody>\n",
       "</table>\n",
       "<p>1338 rows × 7 columns</p>\n",
       "</div>"
      ],
      "text/plain": [
       "      age     sex     bmi  children smoker     region      charges\n",
       "0      19  female  27.900         0    yes  southwest  16884.92400\n",
       "1      18    male  33.770         1     no  southeast   1725.55230\n",
       "2      28    male  33.000         3     no  southeast   4449.46200\n",
       "3      33    male  22.705         0     no  northwest  21984.47061\n",
       "4      32    male  28.880         0     no  northwest   3866.85520\n",
       "...   ...     ...     ...       ...    ...        ...          ...\n",
       "1333   50    male  30.970         3     no  northwest  10600.54830\n",
       "1334   18  female  31.920         0     no  northeast   2205.98080\n",
       "1335   18  female  36.850         0     no  southeast   1629.83350\n",
       "1336   21  female  25.800         0     no  southwest   2007.94500\n",
       "1337   61  female  29.070         0    yes  northwest  29141.36030\n",
       "\n",
       "[1338 rows x 7 columns]"
      ]
     },
     "execution_count": 3,
     "metadata": {},
     "output_type": "execute_result"
    }
   ],
   "source": [
    "df"
   ]
  },
  {
   "cell_type": "markdown",
   "id": "44c625b0",
   "metadata": {},
   "source": [
    "saving dataset in variable df"
   ]
  },
  {
   "cell_type": "code",
   "execution_count": 4,
   "id": "53851938",
   "metadata": {},
   "outputs": [
    {
     "data": {
      "text/plain": [
       "Index(['age', 'sex', 'bmi', 'children', 'smoker', 'region', 'charges'], dtype='object')"
      ]
     },
     "execution_count": 4,
     "metadata": {},
     "output_type": "execute_result"
    }
   ],
   "source": [
    "df.columns"
   ]
  },
  {
   "cell_type": "markdown",
   "id": "f3073821",
   "metadata": {},
   "source": [
    "there are 7 columns present in my dataset df\n",
    "\n",
    "1.age\n",
    "\n",
    "2.sex\n",
    "\n",
    "3.bmi\n",
    "\n",
    "4.children\n",
    "\n",
    "5.smoker\n",
    "\n",
    "6.region\n",
    "\n",
    "7.charges"
   ]
  },
  {
   "cell_type": "code",
   "execution_count": 5,
   "id": "a3180134",
   "metadata": {},
   "outputs": [
    {
     "data": {
      "text/plain": [
       "age           int64\n",
       "sex          object\n",
       "bmi         float64\n",
       "children      int64\n",
       "smoker       object\n",
       "region       object\n",
       "charges     float64\n",
       "dtype: object"
      ]
     },
     "execution_count": 5,
     "metadata": {},
     "output_type": "execute_result"
    }
   ],
   "source": [
    "df.dtypes"
   ]
  },
  {
   "cell_type": "markdown",
   "id": "445bcda3",
   "metadata": {},
   "source": [
    "3 types of data present in dataset\n",
    "1.integer - 2columns\n",
    "\n",
    "2.float - 2 columns\n",
    "\n",
    "3.object - 3 columns"
   ]
  },
  {
   "cell_type": "code",
   "execution_count": 6,
   "id": "af06c7e7",
   "metadata": {},
   "outputs": [
    {
     "name": "stdout",
     "output_type": "stream",
     "text": [
      "18    69\n",
      "19    68\n",
      "50    29\n",
      "51    29\n",
      "47    29\n",
      "46    29\n",
      "45    29\n",
      "20    29\n",
      "48    29\n",
      "52    29\n",
      "22    28\n",
      "49    28\n",
      "54    28\n",
      "53    28\n",
      "21    28\n",
      "26    28\n",
      "24    28\n",
      "25    28\n",
      "28    28\n",
      "27    28\n",
      "23    28\n",
      "43    27\n",
      "29    27\n",
      "30    27\n",
      "41    27\n",
      "42    27\n",
      "44    27\n",
      "31    27\n",
      "40    27\n",
      "32    26\n",
      "33    26\n",
      "56    26\n",
      "34    26\n",
      "55    26\n",
      "57    26\n",
      "37    25\n",
      "59    25\n",
      "58    25\n",
      "36    25\n",
      "38    25\n",
      "35    25\n",
      "39    25\n",
      "61    23\n",
      "60    23\n",
      "63    23\n",
      "62    23\n",
      "64    22\n",
      "Name: age, dtype: int64\n",
      "\n",
      "\n",
      "male      676\n",
      "female    662\n",
      "Name: sex, dtype: int64\n",
      "\n",
      "\n",
      "32.300    13\n",
      "28.310     9\n",
      "30.495     8\n",
      "30.875     8\n",
      "31.350     8\n",
      "          ..\n",
      "46.200     1\n",
      "23.800     1\n",
      "44.770     1\n",
      "32.120     1\n",
      "30.970     1\n",
      "Name: bmi, Length: 548, dtype: int64\n",
      "\n",
      "\n",
      "0    574\n",
      "1    324\n",
      "2    240\n",
      "3    157\n",
      "4     25\n",
      "5     18\n",
      "Name: children, dtype: int64\n",
      "\n",
      "\n",
      "no     1064\n",
      "yes     274\n",
      "Name: smoker, dtype: int64\n",
      "\n",
      "\n",
      "southeast    364\n",
      "southwest    325\n",
      "northwest    325\n",
      "northeast    324\n",
      "Name: region, dtype: int64\n",
      "\n",
      "\n",
      "1639.56310     2\n",
      "16884.92400    1\n",
      "29330.98315    1\n",
      "2221.56445     1\n",
      "19798.05455    1\n",
      "              ..\n",
      "7345.08400     1\n",
      "26109.32905    1\n",
      "28287.89766    1\n",
      "1149.39590     1\n",
      "29141.36030    1\n",
      "Name: charges, Length: 1337, dtype: int64\n",
      "\n",
      "\n"
     ]
    }
   ],
   "source": [
    "for i in df.columns:\n",
    "    print(df[i].value_counts())\n",
    "    print('\\n')"
   ]
  },
  {
   "cell_type": "markdown",
   "id": "4a4ffdbe",
   "metadata": {},
   "source": [
    "there is no missing data present in any columns "
   ]
  },
  {
   "cell_type": "code",
   "execution_count": 7,
   "id": "711ff493",
   "metadata": {},
   "outputs": [
    {
     "name": "stdout",
     "output_type": "stream",
     "text": [
      "<class 'pandas.core.frame.DataFrame'>\n",
      "RangeIndex: 1338 entries, 0 to 1337\n",
      "Data columns (total 7 columns):\n",
      " #   Column    Non-Null Count  Dtype  \n",
      "---  ------    --------------  -----  \n",
      " 0   age       1338 non-null   int64  \n",
      " 1   sex       1338 non-null   object \n",
      " 2   bmi       1338 non-null   float64\n",
      " 3   children  1338 non-null   int64  \n",
      " 4   smoker    1338 non-null   object \n",
      " 5   region    1338 non-null   object \n",
      " 6   charges   1338 non-null   float64\n",
      "dtypes: float64(2), int64(2), object(3)\n",
      "memory usage: 73.3+ KB\n"
     ]
    }
   ],
   "source": [
    "df.info()"
   ]
  },
  {
   "cell_type": "markdown",
   "id": "b8921950",
   "metadata": {},
   "source": [
    "each column has 1338 rows and there is no null data is present "
   ]
  },
  {
   "cell_type": "code",
   "execution_count": 8,
   "id": "e8de844e",
   "metadata": {},
   "outputs": [
    {
     "data": {
      "text/plain": [
       "age         0\n",
       "sex         0\n",
       "bmi         0\n",
       "children    0\n",
       "smoker      0\n",
       "region      0\n",
       "charges     0\n",
       "dtype: int64"
      ]
     },
     "execution_count": 8,
     "metadata": {},
     "output_type": "execute_result"
    }
   ],
   "source": [
    "df.isnull().sum()"
   ]
  },
  {
   "cell_type": "markdown",
   "id": "c99511bb",
   "metadata": {},
   "source": [
    "checking for the null values"
   ]
  },
  {
   "cell_type": "code",
   "execution_count": 9,
   "id": "7e163612",
   "metadata": {},
   "outputs": [
    {
     "data": {
      "text/plain": [
       "<AxesSubplot:>"
      ]
     },
     "execution_count": 9,
     "metadata": {},
     "output_type": "execute_result"
    },
    {
     "data": {
      "image/png": "[encoded data removed]",
      "text/plain": [
       "<Figure size 432x288 with 2 Axes>"
      ]
     },
     "metadata": {
      "needs_background": "light"
     },
     "output_type": "display_data"
    }
   ],
   "source": [
    "sns.heatmap(df.isnull())"
   ]
  },
  {
   "cell_type": "markdown",
   "id": "f41bad2e",
   "metadata": {},
   "source": [
    "using heatmap to check the null values in dataset but there is no null values present..."
   ]
  },
  {
   "cell_type": "code",
   "execution_count": 10,
   "id": "bcf09afb",
   "metadata": {},
   "outputs": [
    {
     "data": {
      "text/plain": [
       "1337"
      ]
     },
     "execution_count": 10,
     "metadata": {},
     "output_type": "execute_result"
    }
   ],
   "source": [
    "df['charges'].nunique()"
   ]
  },
  {
   "cell_type": "markdown",
   "id": "7788c878",
   "metadata": {},
   "source": [
    "1337 unique values are present in target column"
   ]
  },
  {
   "cell_type": "code",
   "execution_count": 11,
   "id": "1eb0624b",
   "metadata": {},
   "outputs": [
    {
     "name": "stdout",
     "output_type": "stream",
     "text": [
      "[19 18 28 33 32 31 46 37 60 25 62 23 56 27 52 30 34 59 63 55 22 26 35 24\n",
      " 41 38 36 21 48 40 58 53 43 64 20 61 44 57 29 45 54 49 47 51 42 50 39]\n",
      "\n",
      "\n",
      "['female' 'male']\n",
      "\n",
      "\n",
      "[27.9   33.77  33.    22.705 28.88  25.74  33.44  27.74  29.83  25.84\n",
      " 26.22  26.29  34.4   39.82  42.13  24.6   30.78  23.845 40.3   35.3\n",
      " 36.005 32.4   34.1   31.92  28.025 27.72  23.085 32.775 17.385 36.3\n",
      " 35.6   26.315 28.6   28.31  36.4   20.425 32.965 20.8   36.67  39.9\n",
      " 26.6   36.63  21.78  30.8   37.05  37.3   38.665 34.77  24.53  35.2\n",
      " 35.625 33.63  28.    34.43  28.69  36.955 31.825 31.68  22.88  37.335\n",
      " 27.36  33.66  24.7   25.935 22.42  28.9   39.1   36.19  23.98  24.75\n",
      " 28.5   28.1   32.01  27.4   34.01  29.59  35.53  39.805 26.885 38.285\n",
      " 37.62  41.23  34.8   22.895 31.16  27.2   26.98  39.49  24.795 31.3\n",
      " 38.28  19.95  19.3   31.6   25.46  30.115 29.92  27.5   28.4   30.875\n",
      " 27.94  35.09  29.7   35.72  32.205 28.595 49.06  27.17  23.37  37.1\n",
      " 23.75  28.975 31.35  33.915 28.785 28.3   37.4   17.765 34.7   26.505\n",
      " 22.04  35.9   25.555 28.05  25.175 31.9   36.    32.49  25.3   29.735\n",
      " 38.83  30.495 37.73  37.43  24.13  37.145 39.52  24.42  27.83  36.85\n",
      " 39.6   29.8   29.64  28.215 37.    33.155 18.905 41.47  30.3   15.96\n",
      " 33.345 37.7   27.835 29.2   26.41  30.69  41.895 30.9   32.2   32.11\n",
      " 31.57  26.2   30.59  32.8   18.05  39.33  32.23  24.035 36.08  22.3\n",
      " 26.4   31.8   26.73  23.1   23.21  33.7   33.25  24.64  33.88  38.06\n",
      " 41.91  31.635 36.195 17.8   24.51  22.22  38.39  29.07  22.135 26.8\n",
      " 30.02  35.86  20.9   17.29  34.21  25.365 40.15  24.415 25.2   26.84\n",
      " 24.32  42.35  19.8   32.395 30.2   29.37  34.2   27.455 27.55  20.615\n",
      " 24.3   31.79  21.56  28.12  40.565 27.645 31.2   26.62  48.07  36.765\n",
      " 33.4   45.54  28.82  22.99  27.7   25.41  34.39  22.61  37.51  38.\n",
      " 33.33  34.865 33.06  35.97  31.4   25.27  40.945 34.105 36.48  33.8\n",
      " 36.7   36.385 34.5   32.3   27.6   29.26  35.75  23.18  25.6   35.245\n",
      " 43.89  20.79  30.5   21.7   21.89  24.985 32.015 30.4   21.09  22.23\n",
      " 32.9   24.89  31.46  17.955 30.685 43.34  39.05  30.21  31.445 19.855\n",
      " 31.02  38.17  20.6   47.52  20.4   38.38  24.31  23.6   21.12  30.03\n",
      " 17.48  20.235 17.195 23.9   35.15  35.64  22.6   39.16  27.265 29.165\n",
      " 16.815 33.1   26.9   33.11  31.73  46.75  29.45  32.68  33.5   43.01\n",
      " 36.52  26.695 25.65  29.6   38.6   23.4   46.53  30.14  30.    38.095\n",
      " 28.38  28.7   33.82  24.09  32.67  25.1   32.56  41.325 39.5   34.3\n",
      " 31.065 21.47  25.08  43.4   25.7   27.93  39.2   26.03  30.25  28.93\n",
      " 35.7   35.31  31.    44.22  26.07  25.8   39.425 40.48  38.9   47.41\n",
      " 35.435 46.7   46.2   21.4   23.8   44.77  32.12  29.1   37.29  43.12\n",
      " 36.86  34.295 23.465 45.43  23.65  20.7   28.27  35.91  29.    19.57\n",
      " 31.13  21.85  40.26  33.725 29.48  32.6   37.525 23.655 37.8   19.\n",
      " 21.3   33.535 42.46  38.95  36.1   29.3   39.7   38.19  42.4   34.96\n",
      " 42.68  31.54  29.81  21.375 40.81  17.4   20.3   18.5   26.125 41.69\n",
      " 24.1   36.2   40.185 39.27  34.87  44.745 29.545 23.54  40.47  40.66\n",
      " 36.6   35.4   27.075 28.405 21.755 40.28  30.1   32.1   23.7   35.5\n",
      " 29.15  27.    37.905 22.77  22.8   34.58  27.1   19.475 26.7   34.32\n",
      " 24.4   41.14  22.515 41.8   26.18  42.24  26.51  35.815 41.42  36.575\n",
      " 42.94  21.01  24.225 17.67  31.5   31.1   32.78  32.45  50.38  47.6\n",
      " 25.4   29.9   43.7   24.86  28.8   29.5   29.04  38.94  44.    20.045\n",
      " 40.92  35.1   29.355 32.585 32.34  39.8   24.605 33.99  28.2   25.\n",
      " 33.2   23.2   20.1   32.5   37.18  46.09  39.93  35.8   31.255 18.335\n",
      " 42.9   26.79  39.615 25.9   25.745 28.16  23.56  40.5   35.42  39.995\n",
      " 34.675 20.52  23.275 36.29  32.7   19.19  20.13  23.32  45.32  34.6\n",
      " 18.715 21.565 23.    37.07  52.58  42.655 21.66  32.    18.3   47.74\n",
      " 22.1   19.095 31.24  29.925 20.35  25.85  42.75  18.6   23.87  45.9\n",
      " 21.5   30.305 44.88  41.1   40.37  28.49  33.55  40.375 27.28  17.86\n",
      " 33.3   39.14  21.945 24.97  23.94  34.485 21.8   23.3   36.96  21.28\n",
      " 29.4   27.3   37.9   37.715 23.76  25.52  27.61  27.06  39.4   34.9\n",
      " 22.    30.36  27.8   53.13  39.71  32.87  44.7   30.97 ]\n",
      "\n",
      "\n",
      "[0 1 3 2 5 4]\n",
      "\n",
      "\n",
      "['yes' 'no']\n",
      "\n",
      "\n",
      "['southwest' 'southeast' 'northwest' 'northeast']\n",
      "\n",
      "\n",
      "[16884.924   1725.5523  4449.462  ...  1629.8335  2007.945  29141.3603]\n",
      "\n",
      "\n"
     ]
    }
   ],
   "source": [
    "for i in df.columns:\n",
    "    print(df[i].unique())\n",
    "    print('\\n')"
   ]
  },
  {
   "cell_type": "markdown",
   "id": "7dfed29c",
   "metadata": {},
   "source": [
    "checking for unique values present in the dataset "
   ]
  },
  {
   "cell_type": "code",
   "execution_count": 12,
   "id": "b0f7f800",
   "metadata": {},
   "outputs": [
    {
     "name": "stdout",
     "output_type": "stream",
     "text": [
      "               age          bmi     children       charges\n",
      "count  1338.000000  1338.000000  1338.000000   1338.000000\n",
      "mean     39.207025    30.663397     1.094918  13270.422265\n",
      "std      14.049960     6.098187     1.205493  12110.011237\n",
      "min      18.000000    15.960000     0.000000   1121.873900\n",
      "25%      27.000000    26.296250     0.000000   4740.287150\n",
      "50%      39.000000    30.400000     1.000000   9382.033000\n",
      "75%      51.000000    34.693750     2.000000  16639.912515\n",
      "max      64.000000    53.130000     5.000000  63770.428010\n"
     ]
    },
    {
     "data": {
      "text/plain": [
       "<AxesSubplot:>"
      ]
     },
     "execution_count": 12,
     "metadata": {},
     "output_type": "execute_result"
    },
    {
     "data": {
      "image/png": "[encoded data removed]",
      "text/plain": [
       "<Figure size 1080x576 with 2 Axes>"
      ]
     },
     "metadata": {
      "needs_background": "light"
     },
     "output_type": "display_data"
    }
   ],
   "source": [
    "print(df.describe())\n",
    "plt.figure(figsize=(15,8))\n",
    "sns.heatmap(df.describe(),annot=True,fmt='0.2f',linecolor='black',linewidth=0.2,cmap='Blues_r')"
   ]
  },
  {
   "cell_type": "markdown",
   "id": "c69ad9d6",
   "metadata": {},
   "source": [
    "each column has 1338 rows \n",
    "\n",
    "here the mean is greater than the median so here we can confirm the right skewed data is present in the dataset\n",
    "\n",
    "the target column there huge difference is in between the 3rd quartile and the max values , means outliers are present \n",
    "in the target and in the graph also we can see the same thing "
   ]
  },
  {
   "cell_type": "code",
   "execution_count": 13,
   "id": "e910701f",
   "metadata": {},
   "outputs": [
    {
     "data": {
      "text/plain": [
       "<AxesSubplot:>"
      ]
     },
     "execution_count": 13,
     "metadata": {},
     "output_type": "execute_result"
    },
    {
     "data": {
      "image/png": "[encoded data removed]",
      "text/plain": [
       "<Figure size 432x288 with 1 Axes>"
      ]
     },
     "metadata": {
      "needs_background": "light"
     },
     "output_type": "display_data"
    }
   ],
   "source": [
    "df['charges'].plot.box()"
   ]
  },
  {
   "cell_type": "markdown",
   "id": "95cc6821",
   "metadata": {},
   "source": [
    "using boxplot clearly showing outliers are present in the charges column , we have clean the outliers later"
   ]
  },
  {
   "cell_type": "code",
   "execution_count": 14,
   "id": "e29e13bc",
   "metadata": {},
   "outputs": [
    {
     "data": {
      "text/plain": [
       "<AxesSubplot:>"
      ]
     },
     "execution_count": 14,
     "metadata": {},
     "output_type": "execute_result"
    },
    {
     "data": {
      "image/png": "[encoded data removed]",
      "text/plain": [
       "<Figure size 432x288 with 1 Axes>"
      ]
     },
     "metadata": {
      "needs_background": "light"
     },
     "output_type": "display_data"
    }
   ],
   "source": [
    "df['children'].plot.box()"
   ]
  },
  {
   "cell_type": "markdown",
   "id": "2bd27f53",
   "metadata": {},
   "source": [
    "there is no outliers present in the children column"
   ]
  },
  {
   "cell_type": "code",
   "execution_count": 15,
   "id": "359ac2f0",
   "metadata": {},
   "outputs": [
    {
     "data": {
      "text/plain": [
       "<AxesSubplot:>"
      ]
     },
     "execution_count": 15,
     "metadata": {},
     "output_type": "execute_result"
    },
    {
     "data": {
      "image/png": "[encoded data removed]",
      "text/plain": [
       "<Figure size 432x288 with 1 Axes>"
      ]
     },
     "metadata": {
      "needs_background": "light"
     },
     "output_type": "display_data"
    }
   ],
   "source": [
    "df['age'].plot.box()"
   ]
  },
  {
   "cell_type": "markdown",
   "id": "1ae42462",
   "metadata": {},
   "source": [
    "in age column also there is no outliers present"
   ]
  },
  {
   "cell_type": "code",
   "execution_count": 16,
   "id": "d26d757d",
   "metadata": {},
   "outputs": [
    {
     "data": {
      "text/plain": [
       "<AxesSubplot:>"
      ]
     },
     "execution_count": 16,
     "metadata": {},
     "output_type": "execute_result"
    },
    {
     "data": {
      "image/png": "[encoded data removed]",
      "text/plain": [
       "<Figure size 432x288 with 1 Axes>"
      ]
     },
     "metadata": {
      "needs_background": "light"
     },
     "output_type": "display_data"
    }
   ],
   "source": [
    "df['bmi'].plot.box()"
   ]
  },
  {
   "cell_type": "markdown",
   "id": "a716888d",
   "metadata": {},
   "source": [
    "here bmi column has small amount of outliers present"
   ]
  },
  {
   "cell_type": "code",
   "execution_count": 17,
   "id": "5e29bcce",
   "metadata": {},
   "outputs": [
    {
     "data": {
      "text/html": [
       "<div>\n",
       "<style scoped>\n",
       "    .dataframe tbody tr th:only-of-type {\n",
       "        vertical-align: middle;\n",
       "    }\n",
       "\n",
       "    .dataframe tbody tr th {\n",
       "        vertical-align: top;\n",
       "    }\n",
       "\n",
       "    .dataframe thead th {\n",
       "        text-align: right;\n",
       "    }\n",
       "</style>\n",
       "<table border=\"1\" class=\"dataframe\">\n",
       "  <thead>\n",
       "    <tr style=\"text-align: right;\">\n",
       "      <th></th>\n",
       "      <th>age</th>\n",
       "      <th>sex</th>\n",
       "      <th>bmi</th>\n",
       "      <th>children</th>\n",
       "      <th>smoker</th>\n",
       "      <th>region</th>\n",
       "      <th>charges</th>\n",
       "    </tr>\n",
       "  </thead>\n",
       "  <tbody>\n",
       "    <tr>\n",
       "      <th>0</th>\n",
       "      <td>19</td>\n",
       "      <td>female</td>\n",
       "      <td>27.900</td>\n",
       "      <td>0</td>\n",
       "      <td>yes</td>\n",
       "      <td>southwest</td>\n",
       "      <td>16884.92400</td>\n",
       "    </tr>\n",
       "    <tr>\n",
       "      <th>1</th>\n",
       "      <td>18</td>\n",
       "      <td>male</td>\n",
       "      <td>33.770</td>\n",
       "      <td>1</td>\n",
       "      <td>no</td>\n",
       "      <td>southeast</td>\n",
       "      <td>1725.55230</td>\n",
       "    </tr>\n",
       "    <tr>\n",
       "      <th>2</th>\n",
       "      <td>28</td>\n",
       "      <td>male</td>\n",
       "      <td>33.000</td>\n",
       "      <td>3</td>\n",
       "      <td>no</td>\n",
       "      <td>southeast</td>\n",
       "      <td>4449.46200</td>\n",
       "    </tr>\n",
       "    <tr>\n",
       "      <th>3</th>\n",
       "      <td>33</td>\n",
       "      <td>male</td>\n",
       "      <td>22.705</td>\n",
       "      <td>0</td>\n",
       "      <td>no</td>\n",
       "      <td>northwest</td>\n",
       "      <td>21984.47061</td>\n",
       "    </tr>\n",
       "    <tr>\n",
       "      <th>4</th>\n",
       "      <td>32</td>\n",
       "      <td>male</td>\n",
       "      <td>28.880</td>\n",
       "      <td>0</td>\n",
       "      <td>no</td>\n",
       "      <td>northwest</td>\n",
       "      <td>3866.85520</td>\n",
       "    </tr>\n",
       "    <tr>\n",
       "      <th>...</th>\n",
       "      <td>...</td>\n",
       "      <td>...</td>\n",
       "      <td>...</td>\n",
       "      <td>...</td>\n",
       "      <td>...</td>\n",
       "      <td>...</td>\n",
       "      <td>...</td>\n",
       "    </tr>\n",
       "    <tr>\n",
       "      <th>1333</th>\n",
       "      <td>50</td>\n",
       "      <td>male</td>\n",
       "      <td>30.970</td>\n",
       "      <td>3</td>\n",
       "      <td>no</td>\n",
       "      <td>northwest</td>\n",
       "      <td>10600.54830</td>\n",
       "    </tr>\n",
       "    <tr>\n",
       "      <th>1334</th>\n",
       "      <td>18</td>\n",
       "      <td>female</td>\n",
       "      <td>31.920</td>\n",
       "      <td>0</td>\n",
       "      <td>no</td>\n",
       "      <td>northeast</td>\n",
       "      <td>2205.98080</td>\n",
       "    </tr>\n",
       "    <tr>\n",
       "      <th>1335</th>\n",
       "      <td>18</td>\n",
       "      <td>female</td>\n",
       "      <td>36.850</td>\n",
       "      <td>0</td>\n",
       "      <td>no</td>\n",
       "      <td>southeast</td>\n",
       "      <td>1629.83350</td>\n",
       "    </tr>\n",
       "    <tr>\n",
       "      <th>1336</th>\n",
       "      <td>21</td>\n",
       "      <td>female</td>\n",
       "      <td>25.800</td>\n",
       "      <td>0</td>\n",
       "      <td>no</td>\n",
       "      <td>southwest</td>\n",
       "      <td>2007.94500</td>\n",
       "    </tr>\n",
       "    <tr>\n",
       "      <th>1337</th>\n",
       "      <td>61</td>\n",
       "      <td>female</td>\n",
       "      <td>29.070</td>\n",
       "      <td>0</td>\n",
       "      <td>yes</td>\n",
       "      <td>northwest</td>\n",
       "      <td>29141.36030</td>\n",
       "    </tr>\n",
       "  </tbody>\n",
       "</table>\n",
       "<p>1338 rows × 7 columns</p>\n",
       "</div>"
      ],
      "text/plain": [
       "      age     sex     bmi  children smoker     region      charges\n",
       "0      19  female  27.900         0    yes  southwest  16884.92400\n",
       "1      18    male  33.770         1     no  southeast   1725.55230\n",
       "2      28    male  33.000         3     no  southeast   4449.46200\n",
       "3      33    male  22.705         0     no  northwest  21984.47061\n",
       "4      32    male  28.880         0     no  northwest   3866.85520\n",
       "...   ...     ...     ...       ...    ...        ...          ...\n",
       "1333   50    male  30.970         3     no  northwest  10600.54830\n",
       "1334   18  female  31.920         0     no  northeast   2205.98080\n",
       "1335   18  female  36.850         0     no  southeast   1629.83350\n",
       "1336   21  female  25.800         0     no  southwest   2007.94500\n",
       "1337   61  female  29.070         0    yes  northwest  29141.36030\n",
       "\n",
       "[1338 rows x 7 columns]"
      ]
     },
     "execution_count": 17,
     "metadata": {},
     "output_type": "execute_result"
    }
   ],
   "source": [
    "df"
   ]
  },
  {
   "cell_type": "code",
   "execution_count": 18,
   "id": "f258c49d",
   "metadata": {},
   "outputs": [
    {
     "name": "stdout",
     "output_type": "stream",
     "text": [
      "male      676\n",
      "female    662\n",
      "Name: sex, dtype: int64\n"
     ]
    },
    {
     "data": {
      "image/png": "[encoded data removed]",
      "text/plain": [
       "<Figure size 432x288 with 1 Axes>"
      ]
     },
     "metadata": {
      "needs_background": "light"
     },
     "output_type": "display_data"
    }
   ],
   "source": [
    "sns.countplot(df['sex'])\n",
    "print(df['sex'].value_counts())"
   ]
  },
  {
   "cell_type": "markdown",
   "id": "3391e82d",
   "metadata": {},
   "source": [
    "using countplot we observe that sex column has nearly equal number of value counts"
   ]
  },
  {
   "cell_type": "code",
   "execution_count": 19,
   "id": "a0e3c56e",
   "metadata": {},
   "outputs": [
    {
     "name": "stdout",
     "output_type": "stream",
     "text": [
      "no     1064\n",
      "yes     274\n",
      "Name: smoker, dtype: int64\n"
     ]
    },
    {
     "data": {
      "image/png": "[encoded data removed]",
      "text/plain": [
       "<Figure size 432x288 with 1 Axes>"
      ]
     },
     "metadata": {
      "needs_background": "light"
     },
     "output_type": "display_data"
    }
   ],
   "source": [
    "sns.countplot(df['smoker'])\n",
    "print(df['smoker'].value_counts())"
   ]
  },
  {
   "cell_type": "markdown",
   "id": "fd060d6c",
   "metadata": {},
   "source": [
    "smoker column has not equal number proportion in smoker and non smoker "
   ]
  },
  {
   "cell_type": "code",
   "execution_count": 20,
   "id": "f7e190a7",
   "metadata": {},
   "outputs": [
    {
     "name": "stdout",
     "output_type": "stream",
     "text": [
      "southeast    364\n",
      "southwest    325\n",
      "northwest    325\n",
      "northeast    324\n",
      "Name: region, dtype: int64\n"
     ]
    },
    {
     "data": {
      "image/png": "[encoded data removed]",
      "text/plain": [
       "<Figure size 432x288 with 1 Axes>"
      ]
     },
     "metadata": {
      "needs_background": "light"
     },
     "output_type": "display_data"
    }
   ],
   "source": [
    "sns.countplot(df['region'])\n",
    "print(df['region'].value_counts())"
   ]
  },
  {
   "cell_type": "markdown",
   "id": "0d2138f1",
   "metadata": {},
   "source": [
    "region column has nearly equal number of value counts for all regions"
   ]
  },
  {
   "cell_type": "code",
   "execution_count": 21,
   "id": "22cf1b0d",
   "metadata": {},
   "outputs": [
    {
     "data": {
      "text/plain": [
       "<AxesSubplot:xlabel='bmi', ylabel='Density'>"
      ]
     },
     "execution_count": 21,
     "metadata": {},
     "output_type": "execute_result"
    },
    {
     "data": {
      "image/png": "[encoded data removed]",
      "text/plain": [
       "<Figure size 432x288 with 1 Axes>"
      ]
     },
     "metadata": {
      "needs_background": "light"
     },
     "output_type": "display_data"
    }
   ],
   "source": [
    "sns.distplot(df['bmi'])"
   ]
  },
  {
   "cell_type": "markdown",
   "id": "85bd86d1",
   "metadata": {},
   "source": [
    "checking for the skewness in bmi colums there is no skewness is present"
   ]
  },
  {
   "cell_type": "code",
   "execution_count": 22,
   "id": "be361d2a",
   "metadata": {},
   "outputs": [
    {
     "data": {
      "text/plain": [
       "<AxesSubplot:xlabel='charges', ylabel='Density'>"
      ]
     },
     "execution_count": 22,
     "metadata": {},
     "output_type": "execute_result"
    },
    {
     "data": {
      "image/png": "[encoded data removed]",
      "text/plain": [
       "<Figure size 432x288 with 1 Axes>"
      ]
     },
     "metadata": {
      "needs_background": "light"
     },
     "output_type": "display_data"
    }
   ],
   "source": [
    "sns.distplot(df['charges'])"
   ]
  },
  {
   "cell_type": "markdown",
   "id": "12ea4a5b",
   "metadata": {},
   "source": [
    "in charges column right skewed data is present"
   ]
  },
  {
   "cell_type": "code",
   "execution_count": 23,
   "id": "ad03493a",
   "metadata": {},
   "outputs": [
    {
     "data": {
      "text/html": [
       "<div>\n",
       "<style scoped>\n",
       "    .dataframe tbody tr th:only-of-type {\n",
       "        vertical-align: middle;\n",
       "    }\n",
       "\n",
       "    .dataframe tbody tr th {\n",
       "        vertical-align: top;\n",
       "    }\n",
       "\n",
       "    .dataframe thead th {\n",
       "        text-align: right;\n",
       "    }\n",
       "</style>\n",
       "<table border=\"1\" class=\"dataframe\">\n",
       "  <thead>\n",
       "    <tr style=\"text-align: right;\">\n",
       "      <th></th>\n",
       "      <th>age</th>\n",
       "      <th>sex</th>\n",
       "      <th>bmi</th>\n",
       "      <th>children</th>\n",
       "      <th>smoker</th>\n",
       "      <th>region</th>\n",
       "      <th>charges</th>\n",
       "    </tr>\n",
       "  </thead>\n",
       "  <tbody>\n",
       "    <tr>\n",
       "      <th>0</th>\n",
       "      <td>19</td>\n",
       "      <td>0.0</td>\n",
       "      <td>27.900</td>\n",
       "      <td>0</td>\n",
       "      <td>1.0</td>\n",
       "      <td>3.0</td>\n",
       "      <td>16884.92400</td>\n",
       "    </tr>\n",
       "    <tr>\n",
       "      <th>1</th>\n",
       "      <td>18</td>\n",
       "      <td>1.0</td>\n",
       "      <td>33.770</td>\n",
       "      <td>1</td>\n",
       "      <td>0.0</td>\n",
       "      <td>2.0</td>\n",
       "      <td>1725.55230</td>\n",
       "    </tr>\n",
       "    <tr>\n",
       "      <th>2</th>\n",
       "      <td>28</td>\n",
       "      <td>1.0</td>\n",
       "      <td>33.000</td>\n",
       "      <td>3</td>\n",
       "      <td>0.0</td>\n",
       "      <td>2.0</td>\n",
       "      <td>4449.46200</td>\n",
       "    </tr>\n",
       "    <tr>\n",
       "      <th>3</th>\n",
       "      <td>33</td>\n",
       "      <td>1.0</td>\n",
       "      <td>22.705</td>\n",
       "      <td>0</td>\n",
       "      <td>0.0</td>\n",
       "      <td>1.0</td>\n",
       "      <td>21984.47061</td>\n",
       "    </tr>\n",
       "    <tr>\n",
       "      <th>4</th>\n",
       "      <td>32</td>\n",
       "      <td>1.0</td>\n",
       "      <td>28.880</td>\n",
       "      <td>0</td>\n",
       "      <td>0.0</td>\n",
       "      <td>1.0</td>\n",
       "      <td>3866.85520</td>\n",
       "    </tr>\n",
       "    <tr>\n",
       "      <th>...</th>\n",
       "      <td>...</td>\n",
       "      <td>...</td>\n",
       "      <td>...</td>\n",
       "      <td>...</td>\n",
       "      <td>...</td>\n",
       "      <td>...</td>\n",
       "      <td>...</td>\n",
       "    </tr>\n",
       "    <tr>\n",
       "      <th>1333</th>\n",
       "      <td>50</td>\n",
       "      <td>1.0</td>\n",
       "      <td>30.970</td>\n",
       "      <td>3</td>\n",
       "      <td>0.0</td>\n",
       "      <td>1.0</td>\n",
       "      <td>10600.54830</td>\n",
       "    </tr>\n",
       "    <tr>\n",
       "      <th>1334</th>\n",
       "      <td>18</td>\n",
       "      <td>0.0</td>\n",
       "      <td>31.920</td>\n",
       "      <td>0</td>\n",
       "      <td>0.0</td>\n",
       "      <td>0.0</td>\n",
       "      <td>2205.98080</td>\n",
       "    </tr>\n",
       "    <tr>\n",
       "      <th>1335</th>\n",
       "      <td>18</td>\n",
       "      <td>0.0</td>\n",
       "      <td>36.850</td>\n",
       "      <td>0</td>\n",
       "      <td>0.0</td>\n",
       "      <td>2.0</td>\n",
       "      <td>1629.83350</td>\n",
       "    </tr>\n",
       "    <tr>\n",
       "      <th>1336</th>\n",
       "      <td>21</td>\n",
       "      <td>0.0</td>\n",
       "      <td>25.800</td>\n",
       "      <td>0</td>\n",
       "      <td>0.0</td>\n",
       "      <td>3.0</td>\n",
       "      <td>2007.94500</td>\n",
       "    </tr>\n",
       "    <tr>\n",
       "      <th>1337</th>\n",
       "      <td>61</td>\n",
       "      <td>0.0</td>\n",
       "      <td>29.070</td>\n",
       "      <td>0</td>\n",
       "      <td>1.0</td>\n",
       "      <td>1.0</td>\n",
       "      <td>29141.36030</td>\n",
       "    </tr>\n",
       "  </tbody>\n",
       "</table>\n",
       "<p>1338 rows × 7 columns</p>\n",
       "</div>"
      ],
      "text/plain": [
       "      age  sex     bmi  children  smoker  region      charges\n",
       "0      19  0.0  27.900         0     1.0     3.0  16884.92400\n",
       "1      18  1.0  33.770         1     0.0     2.0   1725.55230\n",
       "2      28  1.0  33.000         3     0.0     2.0   4449.46200\n",
       "3      33  1.0  22.705         0     0.0     1.0  21984.47061\n",
       "4      32  1.0  28.880         0     0.0     1.0   3866.85520\n",
       "...   ...  ...     ...       ...     ...     ...          ...\n",
       "1333   50  1.0  30.970         3     0.0     1.0  10600.54830\n",
       "1334   18  0.0  31.920         0     0.0     0.0   2205.98080\n",
       "1335   18  0.0  36.850         0     0.0     2.0   1629.83350\n",
       "1336   21  0.0  25.800         0     0.0     3.0   2007.94500\n",
       "1337   61  0.0  29.070         0     1.0     1.0  29141.36030\n",
       "\n",
       "[1338 rows x 7 columns]"
      ]
     },
     "execution_count": 23,
     "metadata": {},
     "output_type": "execute_result"
    }
   ],
   "source": [
    "from sklearn.preprocessing import OrdinalEncoder\n",
    "OE=OrdinalEncoder()\n",
    "\n",
    "for i in df.columns:\n",
    "    if df[i].dtypes=='object':\n",
    "        df[i]=OE.fit_transform(df[i].values.reshape(-1,1))\n",
    "df"
   ]
  },
  {
   "cell_type": "markdown",
   "id": "4b5f264a",
   "metadata": {},
   "source": [
    "using the ordinal encoder to convert the Object data to Numarical data ..\n",
    "\n",
    "beacuse we can not use the catogorical data to predict the model further"
   ]
  },
  {
   "cell_type": "code",
   "execution_count": 24,
   "id": "8c3b8d42",
   "metadata": {},
   "outputs": [
    {
     "name": "stdout",
     "output_type": "stream",
     "text": [
      "<class 'pandas.core.frame.DataFrame'>\n",
      "RangeIndex: 1338 entries, 0 to 1337\n",
      "Data columns (total 7 columns):\n",
      " #   Column    Non-Null Count  Dtype  \n",
      "---  ------    --------------  -----  \n",
      " 0   age       1338 non-null   int64  \n",
      " 1   sex       1338 non-null   float64\n",
      " 2   bmi       1338 non-null   float64\n",
      " 3   children  1338 non-null   int64  \n",
      " 4   smoker    1338 non-null   float64\n",
      " 5   region    1338 non-null   float64\n",
      " 6   charges   1338 non-null   float64\n",
      "dtypes: float64(5), int64(2)\n",
      "memory usage: 73.3 KB\n"
     ]
    }
   ],
   "source": [
    "df.info()"
   ]
  },
  {
   "cell_type": "markdown",
   "id": "9025f7f2",
   "metadata": {},
   "source": [
    "we can see here my catogorical data is converted into float datatype"
   ]
  },
  {
   "cell_type": "code",
   "execution_count": 25,
   "id": "c6c17911",
   "metadata": {},
   "outputs": [
    {
     "name": "stdout",
     "output_type": "stream",
     "text": [
      "               age       sex       bmi  children    smoker    region   charges\n",
      "age       1.000000 -0.020856  0.109272  0.042469 -0.025019  0.002127  0.299008\n",
      "sex      -0.020856  1.000000  0.046371  0.017163  0.076185  0.004588  0.057292\n",
      "bmi       0.109272  0.046371  1.000000  0.012759  0.003750  0.157566  0.198341\n",
      "children  0.042469  0.017163  0.012759  1.000000  0.007673  0.016569  0.067998\n",
      "smoker   -0.025019  0.076185  0.003750  0.007673  1.000000 -0.002181  0.787251\n",
      "region    0.002127  0.004588  0.157566  0.016569 -0.002181  1.000000 -0.006208\n",
      "charges   0.299008  0.057292  0.198341  0.067998  0.787251 -0.006208  1.000000\n",
      "\n",
      "\n",
      "checking the co relation with respect to the Target \n",
      "charges     1.000000\n",
      "smoker      0.787251\n",
      "age         0.299008\n",
      "bmi         0.198341\n",
      "children    0.067998\n",
      "sex         0.057292\n",
      "region     -0.006208\n",
      "Name: charges, dtype: float64\n"
     ]
    },
    {
     "data": {
      "image/png": "[encoded data removed]",
      "text/plain": [
       "<Figure size 432x288 with 2 Axes>"
      ]
     },
     "metadata": {
      "needs_background": "light"
     },
     "output_type": "display_data"
    }
   ],
   "source": [
    "print(df.corr())\n",
    "sns.heatmap(df.corr(),cmap='Blues_r',linecolor='black',linewidth=0.30,fmt='0.2f',annot=True)\n",
    "print('\\n')\n",
    "\n",
    "print('checking the co relation with respect to the Target ')\n",
    "k=df.corr()['charges'].sort_values(ascending=False)\n",
    "print(k)"
   ]
  },
  {
   "cell_type": "markdown",
   "id": "1ca86fca",
   "metadata": {},
   "source": [
    "** smoker columns has high positive reletion with respect to the target \n",
    "\n",
    "** region column has negative reletion with the target \n",
    "\n"
   ]
  },
  {
   "cell_type": "code",
   "execution_count": 26,
   "id": "8d6b1030",
   "metadata": {},
   "outputs": [
    {
     "data": {
      "text/html": [
       "<div>\n",
       "<style scoped>\n",
       "    .dataframe tbody tr th:only-of-type {\n",
       "        vertical-align: middle;\n",
       "    }\n",
       "\n",
       "    .dataframe tbody tr th {\n",
       "        vertical-align: top;\n",
       "    }\n",
       "\n",
       "    .dataframe thead th {\n",
       "        text-align: right;\n",
       "    }\n",
       "</style>\n",
       "<table border=\"1\" class=\"dataframe\">\n",
       "  <thead>\n",
       "    <tr style=\"text-align: right;\">\n",
       "      <th></th>\n",
       "      <th>age</th>\n",
       "      <th>sex</th>\n",
       "      <th>bmi</th>\n",
       "      <th>children</th>\n",
       "      <th>smoker</th>\n",
       "      <th>region</th>\n",
       "      <th>charges</th>\n",
       "    </tr>\n",
       "  </thead>\n",
       "  <tbody>\n",
       "    <tr>\n",
       "      <th>0</th>\n",
       "      <td>1.438764</td>\n",
       "      <td>1.010519</td>\n",
       "      <td>0.453320</td>\n",
       "      <td>0.908614</td>\n",
       "      <td>1.970587</td>\n",
       "      <td>1.343905</td>\n",
       "      <td>0.298584</td>\n",
       "    </tr>\n",
       "    <tr>\n",
       "      <th>1</th>\n",
       "      <td>1.509965</td>\n",
       "      <td>0.989591</td>\n",
       "      <td>0.509621</td>\n",
       "      <td>0.078767</td>\n",
       "      <td>0.507463</td>\n",
       "      <td>0.438495</td>\n",
       "      <td>0.953689</td>\n",
       "    </tr>\n",
       "    <tr>\n",
       "      <th>2</th>\n",
       "      <td>0.797954</td>\n",
       "      <td>0.989591</td>\n",
       "      <td>0.383307</td>\n",
       "      <td>1.580926</td>\n",
       "      <td>0.507463</td>\n",
       "      <td>0.438495</td>\n",
       "      <td>0.728675</td>\n",
       "    </tr>\n",
       "    <tr>\n",
       "      <th>3</th>\n",
       "      <td>0.441948</td>\n",
       "      <td>0.989591</td>\n",
       "      <td>1.305531</td>\n",
       "      <td>0.908614</td>\n",
       "      <td>0.507463</td>\n",
       "      <td>0.466915</td>\n",
       "      <td>0.719843</td>\n",
       "    </tr>\n",
       "    <tr>\n",
       "      <th>4</th>\n",
       "      <td>0.513149</td>\n",
       "      <td>0.989591</td>\n",
       "      <td>0.292556</td>\n",
       "      <td>0.908614</td>\n",
       "      <td>0.507463</td>\n",
       "      <td>0.466915</td>\n",
       "      <td>0.776802</td>\n",
       "    </tr>\n",
       "    <tr>\n",
       "      <th>...</th>\n",
       "      <td>...</td>\n",
       "      <td>...</td>\n",
       "      <td>...</td>\n",
       "      <td>...</td>\n",
       "      <td>...</td>\n",
       "      <td>...</td>\n",
       "      <td>...</td>\n",
       "    </tr>\n",
       "    <tr>\n",
       "      <th>1333</th>\n",
       "      <td>0.768473</td>\n",
       "      <td>0.989591</td>\n",
       "      <td>0.050297</td>\n",
       "      <td>1.580926</td>\n",
       "      <td>0.507463</td>\n",
       "      <td>0.466915</td>\n",
       "      <td>0.220551</td>\n",
       "    </tr>\n",
       "    <tr>\n",
       "      <th>1334</th>\n",
       "      <td>1.509965</td>\n",
       "      <td>1.010519</td>\n",
       "      <td>0.206139</td>\n",
       "      <td>0.908614</td>\n",
       "      <td>0.507463</td>\n",
       "      <td>1.372326</td>\n",
       "      <td>0.914002</td>\n",
       "    </tr>\n",
       "    <tr>\n",
       "      <th>1335</th>\n",
       "      <td>1.509965</td>\n",
       "      <td>1.010519</td>\n",
       "      <td>1.014878</td>\n",
       "      <td>0.908614</td>\n",
       "      <td>0.507463</td>\n",
       "      <td>0.438495</td>\n",
       "      <td>0.961596</td>\n",
       "    </tr>\n",
       "    <tr>\n",
       "      <th>1336</th>\n",
       "      <td>1.296362</td>\n",
       "      <td>1.010519</td>\n",
       "      <td>0.797813</td>\n",
       "      <td>0.908614</td>\n",
       "      <td>0.507463</td>\n",
       "      <td>1.343905</td>\n",
       "      <td>0.930362</td>\n",
       "    </tr>\n",
       "    <tr>\n",
       "      <th>1337</th>\n",
       "      <td>1.551686</td>\n",
       "      <td>1.010519</td>\n",
       "      <td>0.261388</td>\n",
       "      <td>0.908614</td>\n",
       "      <td>1.970587</td>\n",
       "      <td>0.466915</td>\n",
       "      <td>1.311053</td>\n",
       "    </tr>\n",
       "  </tbody>\n",
       "</table>\n",
       "<p>1338 rows × 7 columns</p>\n",
       "</div>"
      ],
      "text/plain": [
       "           age       sex       bmi  children    smoker    region   charges\n",
       "0     1.438764  1.010519  0.453320  0.908614  1.970587  1.343905  0.298584\n",
       "1     1.509965  0.989591  0.509621  0.078767  0.507463  0.438495  0.953689\n",
       "2     0.797954  0.989591  0.383307  1.580926  0.507463  0.438495  0.728675\n",
       "3     0.441948  0.989591  1.305531  0.908614  0.507463  0.466915  0.719843\n",
       "4     0.513149  0.989591  0.292556  0.908614  0.507463  0.466915  0.776802\n",
       "...        ...       ...       ...       ...       ...       ...       ...\n",
       "1333  0.768473  0.989591  0.050297  1.580926  0.507463  0.466915  0.220551\n",
       "1334  1.509965  1.010519  0.206139  0.908614  0.507463  1.372326  0.914002\n",
       "1335  1.509965  1.010519  1.014878  0.908614  0.507463  0.438495  0.961596\n",
       "1336  1.296362  1.010519  0.797813  0.908614  0.507463  1.343905  0.930362\n",
       "1337  1.551686  1.010519  0.261388  0.908614  1.970587  0.466915  1.311053\n",
       "\n",
       "[1338 rows x 7 columns]"
      ]
     },
     "execution_count": 26,
     "metadata": {},
     "output_type": "execute_result"
    }
   ],
   "source": [
    "from scipy.stats import zscore\n",
    "z=np.abs(zscore(df))\n",
    "z"
   ]
  },
  {
   "cell_type": "markdown",
   "id": "81ed5c20",
   "metadata": {},
   "source": [
    "using zscore method to remove the outliers present in the dataset..."
   ]
  },
  {
   "cell_type": "code",
   "execution_count": 27,
   "id": "be88b9d4",
   "metadata": {},
   "outputs": [
    {
     "name": "stdout",
     "output_type": "stream",
     "text": [
      "(array([  32,   34,   71,  116,  166,  413,  425,  438,  543,  568,  577,\n",
      "        640,  819,  847,  877,  932,  937,  969,  984, 1047, 1085, 1116,\n",
      "       1130, 1146, 1230, 1245, 1272, 1300, 1317], dtype=int64), array([3, 6, 3, 2, 3, 3, 3, 3, 6, 3, 6, 3, 6, 2, 3, 3, 3, 3, 3, 2, 3, 3,\n",
      "       3, 6, 6, 3, 3, 6, 2], dtype=int64))\n"
     ]
    }
   ],
   "source": [
    "threshold=3\n",
    "print(np.where(z>3))"
   ]
  },
  {
   "cell_type": "markdown",
   "id": "527be446",
   "metadata": {},
   "source": [
    "setting threshold to 3 because 99% of the data is present in the range of 3 standard deviations "
   ]
  },
  {
   "cell_type": "code",
   "execution_count": 28,
   "id": "f6f717b7",
   "metadata": {},
   "outputs": [
    {
     "data": {
      "text/plain": [
       "3.240618711442044"
      ]
     },
     "execution_count": 28,
     "metadata": {},
     "output_type": "execute_result"
    }
   ],
   "source": [
    "z.iloc[32][3]"
   ]
  },
  {
   "cell_type": "markdown",
   "id": "43c7a7c4",
   "metadata": {},
   "source": [
    "checking zscore with iloc function , clearly its greater than 3 means outliers is present"
   ]
  },
  {
   "cell_type": "code",
   "execution_count": 29,
   "id": "a88d89a3",
   "metadata": {},
   "outputs": [
    {
     "name": "stdout",
     "output_type": "stream",
     "text": [
      "df1 =  (1309, 7)\n",
      "df =  (1338, 7)\n"
     ]
    }
   ],
   "source": [
    "df1=df[(z<3).all(axis=1)]\n",
    "print('df1 = ',df1.shape)\n",
    "print('df = ',df.shape)"
   ]
  },
  {
   "cell_type": "markdown",
   "id": "c678defa",
   "metadata": {},
   "source": [
    "removed the outliers from the dataset , the number of rows are 1309, it shows removed the outliers and saving to df1 "
   ]
  },
  {
   "cell_type": "code",
   "execution_count": 30,
   "id": "36eef6d5",
   "metadata": {},
   "outputs": [
    {
     "data": {
      "text/html": [
       "<div>\n",
       "<style scoped>\n",
       "    .dataframe tbody tr th:only-of-type {\n",
       "        vertical-align: middle;\n",
       "    }\n",
       "\n",
       "    .dataframe tbody tr th {\n",
       "        vertical-align: top;\n",
       "    }\n",
       "\n",
       "    .dataframe thead th {\n",
       "        text-align: right;\n",
       "    }\n",
       "</style>\n",
       "<table border=\"1\" class=\"dataframe\">\n",
       "  <thead>\n",
       "    <tr style=\"text-align: right;\">\n",
       "      <th></th>\n",
       "      <th>age</th>\n",
       "      <th>sex</th>\n",
       "      <th>bmi</th>\n",
       "      <th>children</th>\n",
       "      <th>smoker</th>\n",
       "      <th>region</th>\n",
       "      <th>charges</th>\n",
       "    </tr>\n",
       "  </thead>\n",
       "  <tbody>\n",
       "    <tr>\n",
       "      <th>0</th>\n",
       "      <td>19</td>\n",
       "      <td>0.0</td>\n",
       "      <td>27.900</td>\n",
       "      <td>0</td>\n",
       "      <td>1.0</td>\n",
       "      <td>3.0</td>\n",
       "      <td>16884.92400</td>\n",
       "    </tr>\n",
       "    <tr>\n",
       "      <th>1</th>\n",
       "      <td>18</td>\n",
       "      <td>1.0</td>\n",
       "      <td>33.770</td>\n",
       "      <td>1</td>\n",
       "      <td>0.0</td>\n",
       "      <td>2.0</td>\n",
       "      <td>1725.55230</td>\n",
       "    </tr>\n",
       "    <tr>\n",
       "      <th>2</th>\n",
       "      <td>28</td>\n",
       "      <td>1.0</td>\n",
       "      <td>33.000</td>\n",
       "      <td>3</td>\n",
       "      <td>0.0</td>\n",
       "      <td>2.0</td>\n",
       "      <td>4449.46200</td>\n",
       "    </tr>\n",
       "    <tr>\n",
       "      <th>3</th>\n",
       "      <td>33</td>\n",
       "      <td>1.0</td>\n",
       "      <td>22.705</td>\n",
       "      <td>0</td>\n",
       "      <td>0.0</td>\n",
       "      <td>1.0</td>\n",
       "      <td>21984.47061</td>\n",
       "    </tr>\n",
       "    <tr>\n",
       "      <th>4</th>\n",
       "      <td>32</td>\n",
       "      <td>1.0</td>\n",
       "      <td>28.880</td>\n",
       "      <td>0</td>\n",
       "      <td>0.0</td>\n",
       "      <td>1.0</td>\n",
       "      <td>3866.85520</td>\n",
       "    </tr>\n",
       "    <tr>\n",
       "      <th>...</th>\n",
       "      <td>...</td>\n",
       "      <td>...</td>\n",
       "      <td>...</td>\n",
       "      <td>...</td>\n",
       "      <td>...</td>\n",
       "      <td>...</td>\n",
       "      <td>...</td>\n",
       "    </tr>\n",
       "    <tr>\n",
       "      <th>1333</th>\n",
       "      <td>50</td>\n",
       "      <td>1.0</td>\n",
       "      <td>30.970</td>\n",
       "      <td>3</td>\n",
       "      <td>0.0</td>\n",
       "      <td>1.0</td>\n",
       "      <td>10600.54830</td>\n",
       "    </tr>\n",
       "    <tr>\n",
       "      <th>1334</th>\n",
       "      <td>18</td>\n",
       "      <td>0.0</td>\n",
       "      <td>31.920</td>\n",
       "      <td>0</td>\n",
       "      <td>0.0</td>\n",
       "      <td>0.0</td>\n",
       "      <td>2205.98080</td>\n",
       "    </tr>\n",
       "    <tr>\n",
       "      <th>1335</th>\n",
       "      <td>18</td>\n",
       "      <td>0.0</td>\n",
       "      <td>36.850</td>\n",
       "      <td>0</td>\n",
       "      <td>0.0</td>\n",
       "      <td>2.0</td>\n",
       "      <td>1629.83350</td>\n",
       "    </tr>\n",
       "    <tr>\n",
       "      <th>1336</th>\n",
       "      <td>21</td>\n",
       "      <td>0.0</td>\n",
       "      <td>25.800</td>\n",
       "      <td>0</td>\n",
       "      <td>0.0</td>\n",
       "      <td>3.0</td>\n",
       "      <td>2007.94500</td>\n",
       "    </tr>\n",
       "    <tr>\n",
       "      <th>1337</th>\n",
       "      <td>61</td>\n",
       "      <td>0.0</td>\n",
       "      <td>29.070</td>\n",
       "      <td>0</td>\n",
       "      <td>1.0</td>\n",
       "      <td>1.0</td>\n",
       "      <td>29141.36030</td>\n",
       "    </tr>\n",
       "  </tbody>\n",
       "</table>\n",
       "<p>1309 rows × 7 columns</p>\n",
       "</div>"
      ],
      "text/plain": [
       "      age  sex     bmi  children  smoker  region      charges\n",
       "0      19  0.0  27.900         0     1.0     3.0  16884.92400\n",
       "1      18  1.0  33.770         1     0.0     2.0   1725.55230\n",
       "2      28  1.0  33.000         3     0.0     2.0   4449.46200\n",
       "3      33  1.0  22.705         0     0.0     1.0  21984.47061\n",
       "4      32  1.0  28.880         0     0.0     1.0   3866.85520\n",
       "...   ...  ...     ...       ...     ...     ...          ...\n",
       "1333   50  1.0  30.970         3     0.0     1.0  10600.54830\n",
       "1334   18  0.0  31.920         0     0.0     0.0   2205.98080\n",
       "1335   18  0.0  36.850         0     0.0     2.0   1629.83350\n",
       "1336   21  0.0  25.800         0     0.0     3.0   2007.94500\n",
       "1337   61  0.0  29.070         0     1.0     1.0  29141.36030\n",
       "\n",
       "[1309 rows x 7 columns]"
      ]
     },
     "execution_count": 30,
     "metadata": {},
     "output_type": "execute_result"
    }
   ],
   "source": [
    "df1"
   ]
  },
  {
   "cell_type": "code",
   "execution_count": 31,
   "id": "2759e6ce",
   "metadata": {},
   "outputs": [],
   "source": [
    "Q1=df.quantile(0.25)\n",
    "\n",
    "Q3=df.quantile(0.75)\n",
    "\n",
    "IQR=Q3-Q1\n",
    "\n",
    "df2=df[~((df<(Q1-1.5*IQR))|(df>(Q3+1.5*IQR))).any(axis=1)]"
   ]
  },
  {
   "cell_type": "markdown",
   "id": "03e2a516",
   "metadata": {},
   "source": [
    "removing the outliers using the quantile method "
   ]
  },
  {
   "cell_type": "code",
   "execution_count": 32,
   "id": "a24431f2",
   "metadata": {},
   "outputs": [
    {
     "data": {
      "text/plain": [
       "(1055, 7)"
      ]
     },
     "execution_count": 32,
     "metadata": {},
     "output_type": "execute_result"
    }
   ],
   "source": [
    "df2.shape"
   ]
  },
  {
   "cell_type": "markdown",
   "id": "5a3c7b5f",
   "metadata": {},
   "source": [
    "removed the outliers and saving to new dataset df2"
   ]
  },
  {
   "cell_type": "code",
   "execution_count": 33,
   "id": "42eb8ec9",
   "metadata": {},
   "outputs": [
    {
     "name": "stdout",
     "output_type": "stream",
     "text": [
      "Data loss percentage with zscore method  2.167414050822123\n",
      "Data loss percentage with quantile method  21.150971599402094\n"
     ]
    }
   ],
   "source": [
    "print('Data loss percentage with zscore method ',((df.shape[0]-df1.shape[0])/df.shape[0])*100)\n",
    "print('Data loss percentage with quantile method ',((df.shape[0]-df2.shape[0])/df.shape[0])*100)"
   ]
  },
  {
   "cell_type": "markdown",
   "id": "5c667e74",
   "metadata": {},
   "source": [
    "camparing the data loss after remiving the outliers ,acceptable range of data loss is 10% , so we go through the zscore method\n",
    "is best here"
   ]
  },
  {
   "cell_type": "code",
   "execution_count": 34,
   "id": "4bd1a81c",
   "metadata": {},
   "outputs": [],
   "source": [
    "df=df1"
   ]
  },
  {
   "cell_type": "markdown",
   "id": "b6c80226",
   "metadata": {},
   "source": [
    "saving back to the model df1 as df"
   ]
  },
  {
   "cell_type": "code",
   "execution_count": 35,
   "id": "ab2cd7da",
   "metadata": {},
   "outputs": [],
   "source": [
    "df.drop(['region'],axis=1,inplace=True)"
   ]
  },
  {
   "cell_type": "markdown",
   "id": "33e41130",
   "metadata": {},
   "source": [
    "droping the region column because its negatively co releted to the target column"
   ]
  },
  {
   "cell_type": "code",
   "execution_count": 36,
   "id": "bd61ca0b",
   "metadata": {},
   "outputs": [
    {
     "data": {
      "text/plain": [
       "age         0.051340\n",
       "sex        -0.010708\n",
       "bmi         0.191432\n",
       "children    0.738119\n",
       "smoker      1.482731\n",
       "charges     1.437160\n",
       "dtype: float64"
      ]
     },
     "execution_count": 36,
     "metadata": {},
     "output_type": "execute_result"
    }
   ],
   "source": [
    "df.skew()"
   ]
  },
  {
   "cell_type": "markdown",
   "id": "8808a2bd",
   "metadata": {},
   "source": [
    "checking for the skewness "
   ]
  },
  {
   "cell_type": "code",
   "execution_count": 37,
   "id": "2670d5ab",
   "metadata": {},
   "outputs": [
    {
     "data": {
      "text/html": [
       "<div>\n",
       "<style scoped>\n",
       "    .dataframe tbody tr th:only-of-type {\n",
       "        vertical-align: middle;\n",
       "    }\n",
       "\n",
       "    .dataframe tbody tr th {\n",
       "        vertical-align: top;\n",
       "    }\n",
       "\n",
       "    .dataframe thead th {\n",
       "        text-align: right;\n",
       "    }\n",
       "</style>\n",
       "<table border=\"1\" class=\"dataframe\">\n",
       "  <thead>\n",
       "    <tr style=\"text-align: right;\">\n",
       "      <th></th>\n",
       "      <th>age</th>\n",
       "      <th>sex</th>\n",
       "      <th>bmi</th>\n",
       "      <th>children</th>\n",
       "      <th>smoker</th>\n",
       "      <th>charges</th>\n",
       "    </tr>\n",
       "  </thead>\n",
       "  <tbody>\n",
       "    <tr>\n",
       "      <th>0</th>\n",
       "      <td>-1.439063</td>\n",
       "      <td>-1.005362</td>\n",
       "      <td>-0.449359</td>\n",
       "      <td>-0.929616</td>\n",
       "      <td>1.984848</td>\n",
       "      <td>0.323454</td>\n",
       "    </tr>\n",
       "    <tr>\n",
       "      <th>1</th>\n",
       "      <td>-1.510086</td>\n",
       "      <td>0.994667</td>\n",
       "      <td>0.533391</td>\n",
       "      <td>-0.040093</td>\n",
       "      <td>-0.503817</td>\n",
       "      <td>-0.968500</td>\n",
       "    </tr>\n",
       "    <tr>\n",
       "      <th>2</th>\n",
       "      <td>-0.799859</td>\n",
       "      <td>0.994667</td>\n",
       "      <td>0.404478</td>\n",
       "      <td>1.738954</td>\n",
       "      <td>-0.503817</td>\n",
       "      <td>-0.736355</td>\n",
       "    </tr>\n",
       "    <tr>\n",
       "      <th>3</th>\n",
       "      <td>-0.444746</td>\n",
       "      <td>0.994667</td>\n",
       "      <td>-1.319101</td>\n",
       "      <td>-0.929616</td>\n",
       "      <td>-0.503817</td>\n",
       "      <td>0.758061</td>\n",
       "    </tr>\n",
       "    <tr>\n",
       "      <th>4</th>\n",
       "      <td>-0.515769</td>\n",
       "      <td>0.994667</td>\n",
       "      <td>-0.285288</td>\n",
       "      <td>-0.929616</td>\n",
       "      <td>-0.503817</td>\n",
       "      <td>-0.786008</td>\n",
       "    </tr>\n",
       "    <tr>\n",
       "      <th>...</th>\n",
       "      <td>...</td>\n",
       "      <td>...</td>\n",
       "      <td>...</td>\n",
       "      <td>...</td>\n",
       "      <td>...</td>\n",
       "      <td>...</td>\n",
       "    </tr>\n",
       "    <tr>\n",
       "      <th>1304</th>\n",
       "      <td>0.762639</td>\n",
       "      <td>0.994667</td>\n",
       "      <td>0.064617</td>\n",
       "      <td>1.738954</td>\n",
       "      <td>-0.503817</td>\n",
       "      <td>-0.212131</td>\n",
       "    </tr>\n",
       "    <tr>\n",
       "      <th>1305</th>\n",
       "      <td>-1.510086</td>\n",
       "      <td>-1.005362</td>\n",
       "      <td>0.223666</td>\n",
       "      <td>-0.929616</td>\n",
       "      <td>-0.503817</td>\n",
       "      <td>-0.927555</td>\n",
       "    </tr>\n",
       "    <tr>\n",
       "      <th>1306</th>\n",
       "      <td>-1.510086</td>\n",
       "      <td>-1.005362</td>\n",
       "      <td>1.049041</td>\n",
       "      <td>-0.929616</td>\n",
       "      <td>-0.503817</td>\n",
       "      <td>-0.976657</td>\n",
       "    </tr>\n",
       "    <tr>\n",
       "      <th>1307</th>\n",
       "      <td>-1.297018</td>\n",
       "      <td>-1.005362</td>\n",
       "      <td>-0.800939</td>\n",
       "      <td>-0.929616</td>\n",
       "      <td>-0.503817</td>\n",
       "      <td>-0.944433</td>\n",
       "    </tr>\n",
       "    <tr>\n",
       "      <th>1308</th>\n",
       "      <td>1.543888</td>\n",
       "      <td>-1.005362</td>\n",
       "      <td>-0.253479</td>\n",
       "      <td>-0.929616</td>\n",
       "      <td>1.984848</td>\n",
       "      <td>1.368005</td>\n",
       "    </tr>\n",
       "  </tbody>\n",
       "</table>\n",
       "<p>1309 rows × 6 columns</p>\n",
       "</div>"
      ],
      "text/plain": [
       "           age       sex       bmi  children    smoker   charges\n",
       "0    -1.439063 -1.005362 -0.449359 -0.929616  1.984848  0.323454\n",
       "1    -1.510086  0.994667  0.533391 -0.040093 -0.503817 -0.968500\n",
       "2    -0.799859  0.994667  0.404478  1.738954 -0.503817 -0.736355\n",
       "3    -0.444746  0.994667 -1.319101 -0.929616 -0.503817  0.758061\n",
       "4    -0.515769  0.994667 -0.285288 -0.929616 -0.503817 -0.786008\n",
       "...        ...       ...       ...       ...       ...       ...\n",
       "1304  0.762639  0.994667  0.064617  1.738954 -0.503817 -0.212131\n",
       "1305 -1.510086 -1.005362  0.223666 -0.929616 -0.503817 -0.927555\n",
       "1306 -1.510086 -1.005362  1.049041 -0.929616 -0.503817 -0.976657\n",
       "1307 -1.297018 -1.005362 -0.800939 -0.929616 -0.503817 -0.944433\n",
       "1308  1.543888 -1.005362 -0.253479 -0.929616  1.984848  1.368005\n",
       "\n",
       "[1309 rows x 6 columns]"
      ]
     },
     "execution_count": 37,
     "metadata": {},
     "output_type": "execute_result"
    }
   ],
   "source": [
    "from sklearn.preprocessing import StandardScaler\n",
    "sc=StandardScaler()\n",
    "df=pd.DataFrame(sc.fit_transform(df),columns=df.columns)\n",
    "df"
   ]
  },
  {
   "cell_type": "markdown",
   "id": "67fc284b",
   "metadata": {},
   "source": [
    "with the help of standard scaler we are standardizing to mean is equal to zero and standard deviation to 1"
   ]
  },
  {
   "cell_type": "code",
   "execution_count": 38,
   "id": "b8af0da2",
   "metadata": {},
   "outputs": [],
   "source": [
    "from statsmodels.stats.outliers_influence import variance_inflation_factor\n",
    "vif=pd.DataFrame()\n",
    "vif['VIF Values']=[variance_inflation_factor(df.values,i)\n",
    "                  for i in range(len(df.columns))]\n",
    "vif['VIF Features']=df.columns"
   ]
  },
  {
   "cell_type": "markdown",
   "id": "b78b180b",
   "metadata": {},
   "source": [
    "applying vif factor to check the underfitting and over fitting "
   ]
  },
  {
   "cell_type": "code",
   "execution_count": 39,
   "id": "defe2972",
   "metadata": {},
   "outputs": [
    {
     "data": {
      "text/html": [
       "<div>\n",
       "<style scoped>\n",
       "    .dataframe tbody tr th:only-of-type {\n",
       "        vertical-align: middle;\n",
       "    }\n",
       "\n",
       "    .dataframe tbody tr th {\n",
       "        vertical-align: top;\n",
       "    }\n",
       "\n",
       "    .dataframe thead th {\n",
       "        text-align: right;\n",
       "    }\n",
       "</style>\n",
       "<table border=\"1\" class=\"dataframe\">\n",
       "  <thead>\n",
       "    <tr style=\"text-align: right;\">\n",
       "      <th></th>\n",
       "      <th>VIF Values</th>\n",
       "      <th>VIF Features</th>\n",
       "    </tr>\n",
       "  </thead>\n",
       "  <tbody>\n",
       "    <tr>\n",
       "      <th>0</th>\n",
       "      <td>1.397433</td>\n",
       "      <td>age</td>\n",
       "    </tr>\n",
       "    <tr>\n",
       "      <th>1</th>\n",
       "      <td>1.008896</td>\n",
       "      <td>sex</td>\n",
       "    </tr>\n",
       "    <tr>\n",
       "      <th>2</th>\n",
       "      <td>1.117513</td>\n",
       "      <td>bmi</td>\n",
       "    </tr>\n",
       "    <tr>\n",
       "      <th>3</th>\n",
       "      <td>1.017236</td>\n",
       "      <td>children</td>\n",
       "    </tr>\n",
       "    <tr>\n",
       "      <th>4</th>\n",
       "      <td>3.549289</td>\n",
       "      <td>smoker</td>\n",
       "    </tr>\n",
       "    <tr>\n",
       "      <th>5</th>\n",
       "      <td>4.034269</td>\n",
       "      <td>charges</td>\n",
       "    </tr>\n",
       "  </tbody>\n",
       "</table>\n",
       "</div>"
      ],
      "text/plain": [
       "   VIF Values VIF Features\n",
       "0    1.397433          age\n",
       "1    1.008896          sex\n",
       "2    1.117513          bmi\n",
       "3    1.017236     children\n",
       "4    3.549289       smoker\n",
       "5    4.034269      charges"
      ]
     },
     "execution_count": 39,
     "metadata": {},
     "output_type": "execute_result"
    }
   ],
   "source": [
    "vif"
   ]
  },
  {
   "cell_type": "code",
   "execution_count": 40,
   "id": "8eee87ef",
   "metadata": {},
   "outputs": [],
   "source": [
    "x=df.iloc[:,:-1]\n",
    "y=df.iloc[:,-1]"
   ]
  },
  {
   "cell_type": "markdown",
   "id": "47ed0831",
   "metadata": {},
   "source": [
    "separating the dataset into x and y for training and testing"
   ]
  },
  {
   "cell_type": "code",
   "execution_count": 41,
   "id": "0b0f8399",
   "metadata": {
    "scrolled": true
   },
   "outputs": [
    {
     "data": {
      "text/html": [
       "<div>\n",
       "<style scoped>\n",
       "    .dataframe tbody tr th:only-of-type {\n",
       "        vertical-align: middle;\n",
       "    }\n",
       "\n",
       "    .dataframe tbody tr th {\n",
       "        vertical-align: top;\n",
       "    }\n",
       "\n",
       "    .dataframe thead th {\n",
       "        text-align: right;\n",
       "    }\n",
       "</style>\n",
       "<table border=\"1\" class=\"dataframe\">\n",
       "  <thead>\n",
       "    <tr style=\"text-align: right;\">\n",
       "      <th></th>\n",
       "      <th>age</th>\n",
       "      <th>sex</th>\n",
       "      <th>bmi</th>\n",
       "      <th>children</th>\n",
       "      <th>smoker</th>\n",
       "    </tr>\n",
       "  </thead>\n",
       "  <tbody>\n",
       "    <tr>\n",
       "      <th>0</th>\n",
       "      <td>-1.439063</td>\n",
       "      <td>-1.005362</td>\n",
       "      <td>-0.449359</td>\n",
       "      <td>-0.929616</td>\n",
       "      <td>1.984848</td>\n",
       "    </tr>\n",
       "    <tr>\n",
       "      <th>1</th>\n",
       "      <td>-1.510086</td>\n",
       "      <td>0.994667</td>\n",
       "      <td>0.533391</td>\n",
       "      <td>-0.040093</td>\n",
       "      <td>-0.503817</td>\n",
       "    </tr>\n",
       "    <tr>\n",
       "      <th>2</th>\n",
       "      <td>-0.799859</td>\n",
       "      <td>0.994667</td>\n",
       "      <td>0.404478</td>\n",
       "      <td>1.738954</td>\n",
       "      <td>-0.503817</td>\n",
       "    </tr>\n",
       "    <tr>\n",
       "      <th>3</th>\n",
       "      <td>-0.444746</td>\n",
       "      <td>0.994667</td>\n",
       "      <td>-1.319101</td>\n",
       "      <td>-0.929616</td>\n",
       "      <td>-0.503817</td>\n",
       "    </tr>\n",
       "    <tr>\n",
       "      <th>4</th>\n",
       "      <td>-0.515769</td>\n",
       "      <td>0.994667</td>\n",
       "      <td>-0.285288</td>\n",
       "      <td>-0.929616</td>\n",
       "      <td>-0.503817</td>\n",
       "    </tr>\n",
       "    <tr>\n",
       "      <th>...</th>\n",
       "      <td>...</td>\n",
       "      <td>...</td>\n",
       "      <td>...</td>\n",
       "      <td>...</td>\n",
       "      <td>...</td>\n",
       "    </tr>\n",
       "    <tr>\n",
       "      <th>1304</th>\n",
       "      <td>0.762639</td>\n",
       "      <td>0.994667</td>\n",
       "      <td>0.064617</td>\n",
       "      <td>1.738954</td>\n",
       "      <td>-0.503817</td>\n",
       "    </tr>\n",
       "    <tr>\n",
       "      <th>1305</th>\n",
       "      <td>-1.510086</td>\n",
       "      <td>-1.005362</td>\n",
       "      <td>0.223666</td>\n",
       "      <td>-0.929616</td>\n",
       "      <td>-0.503817</td>\n",
       "    </tr>\n",
       "    <tr>\n",
       "      <th>1306</th>\n",
       "      <td>-1.510086</td>\n",
       "      <td>-1.005362</td>\n",
       "      <td>1.049041</td>\n",
       "      <td>-0.929616</td>\n",
       "      <td>-0.503817</td>\n",
       "    </tr>\n",
       "    <tr>\n",
       "      <th>1307</th>\n",
       "      <td>-1.297018</td>\n",
       "      <td>-1.005362</td>\n",
       "      <td>-0.800939</td>\n",
       "      <td>-0.929616</td>\n",
       "      <td>-0.503817</td>\n",
       "    </tr>\n",
       "    <tr>\n",
       "      <th>1308</th>\n",
       "      <td>1.543888</td>\n",
       "      <td>-1.005362</td>\n",
       "      <td>-0.253479</td>\n",
       "      <td>-0.929616</td>\n",
       "      <td>1.984848</td>\n",
       "    </tr>\n",
       "  </tbody>\n",
       "</table>\n",
       "<p>1309 rows × 5 columns</p>\n",
       "</div>"
      ],
      "text/plain": [
       "           age       sex       bmi  children    smoker\n",
       "0    -1.439063 -1.005362 -0.449359 -0.929616  1.984848\n",
       "1    -1.510086  0.994667  0.533391 -0.040093 -0.503817\n",
       "2    -0.799859  0.994667  0.404478  1.738954 -0.503817\n",
       "3    -0.444746  0.994667 -1.319101 -0.929616 -0.503817\n",
       "4    -0.515769  0.994667 -0.285288 -0.929616 -0.503817\n",
       "...        ...       ...       ...       ...       ...\n",
       "1304  0.762639  0.994667  0.064617  1.738954 -0.503817\n",
       "1305 -1.510086 -1.005362  0.223666 -0.929616 -0.503817\n",
       "1306 -1.510086 -1.005362  1.049041 -0.929616 -0.503817\n",
       "1307 -1.297018 -1.005362 -0.800939 -0.929616 -0.503817\n",
       "1308  1.543888 -1.005362 -0.253479 -0.929616  1.984848\n",
       "\n",
       "[1309 rows x 5 columns]"
      ]
     },
     "execution_count": 41,
     "metadata": {},
     "output_type": "execute_result"
    }
   ],
   "source": [
    "x"
   ]
  },
  {
   "cell_type": "markdown",
   "id": "59cee177",
   "metadata": {},
   "source": [
    "x variable has 1309 rows and 5 columns "
   ]
  },
  {
   "cell_type": "code",
   "execution_count": 42,
   "id": "b1dcfcee",
   "metadata": {},
   "outputs": [
    {
     "data": {
      "text/plain": [
       "0       0.323454\n",
       "1      -0.968500\n",
       "2      -0.736355\n",
       "3       0.758061\n",
       "4      -0.786008\n",
       "          ...   \n",
       "1304   -0.212131\n",
       "1305   -0.927555\n",
       "1306   -0.976657\n",
       "1307   -0.944433\n",
       "1308    1.368005\n",
       "Name: charges, Length: 1309, dtype: float64"
      ]
     },
     "execution_count": 42,
     "metadata": {},
     "output_type": "execute_result"
    }
   ],
   "source": [
    "y"
   ]
  },
  {
   "cell_type": "markdown",
   "id": "b3c36454",
   "metadata": {},
   "source": [
    "target variable has 1309 rows "
   ]
  },
  {
   "cell_type": "code",
   "execution_count": 43,
   "id": "4af7ecbd",
   "metadata": {},
   "outputs": [],
   "source": [
    "from sklearn.linear_model import LinearRegression\n",
    "from sklearn.metrics import r2_score,mean_absolute_error,mean_squared_error"
   ]
  },
  {
   "cell_type": "markdown",
   "id": "f5462f4c",
   "metadata": {},
   "source": [
    "since my target is having contineous data, so i have to choose Regression model"
   ]
  },
  {
   "cell_type": "code",
   "execution_count": 44,
   "id": "87d75511",
   "metadata": {},
   "outputs": [],
   "source": [
    "from sklearn.model_selection import train_test_split"
   ]
  },
  {
   "cell_type": "markdown",
   "id": "06a3517e",
   "metadata": {},
   "source": [
    "importing the train and test model to separate the train,test data"
   ]
  },
  {
   "cell_type": "code",
   "execution_count": 45,
   "id": "d3e7b782",
   "metadata": {},
   "outputs": [
    {
     "name": "stdout",
     "output_type": "stream",
     "text": [
      "Best Accuracy is 0.8168599210363636 at random_state  373\n"
     ]
    }
   ],
   "source": [
    "maxAccu=0\n",
    "maxRs=0\n",
    "for i in range(1,1000):\n",
    "    x_train,x_test,y_train,y_test=train_test_split(x,y,test_size=.30,random_state=i)\n",
    "    lr=LinearRegression()\n",
    "    lr.fit(x_train,y_train)\n",
    "    pred=lr.predict(x_test)\n",
    "    acc=r2_score(y_test,pred)\n",
    "    if acc>maxAccu:\n",
    "        maxAccu=acc\n",
    "        maxRs=i\n",
    "print(\"Best Accuracy is\", maxAccu,\"at random_state \",maxRs)"
   ]
  },
  {
   "cell_type": "markdown",
   "id": "2baadd8d",
   "metadata": {},
   "source": [
    "using the linearregression model to get the best random state for better prediction"
   ]
  },
  {
   "cell_type": "code",
   "execution_count": 46,
   "id": "c11c6565",
   "metadata": {},
   "outputs": [],
   "source": [
    "x_train,x_test,y_train,y_test=train_test_split(x,y,test_size=0.30,random_state=373)"
   ]
  },
  {
   "cell_type": "code",
   "execution_count": 47,
   "id": "04635f9d",
   "metadata": {},
   "outputs": [],
   "source": [
    "from sklearn.ensemble import RandomForestRegressor,ExtraTreesRegressor,GradientBoostingRegressor,AdaBoostRegressor,BaggingRegressor\n",
    "from sklearn.tree import DecisionTreeRegressor\n",
    "from sklearn.svm import SVR\n",
    "from sklearn.linear_model import Lasso,Ridge,ElasticNet"
   ]
  },
  {
   "cell_type": "markdown",
   "id": "2980a418",
   "metadata": {},
   "source": [
    "importing the nessasary libraries for Regression model"
   ]
  },
  {
   "cell_type": "code",
   "execution_count": 48,
   "id": "8a147704",
   "metadata": {},
   "outputs": [
    {
     "name": "stdout",
     "output_type": "stream",
     "text": [
      "RandomForestRegressor\n",
      "R2 score of test data 88.80353385132884\n",
      "Mean absolute error  0.19791535819670458\n",
      "Mean squared error  0.11601123028073684\n"
     ]
    }
   ],
   "source": [
    "print('RandomForestRegressor')\n",
    "Rd=RandomForestRegressor()\n",
    "Rd.fit(x_train,y_train)\n",
    "predrd=Rd.predict(x_test)\n",
    "print('R2 score of test data',r2_score(y_test,predrd)*100)\n",
    "print('Mean absolute error ',mean_absolute_error(y_test,predrd))\n",
    "print('Mean squared error ',mean_squared_error(y_test,predrd))"
   ]
  },
  {
   "cell_type": "markdown",
   "id": "9911730f",
   "metadata": {},
   "source": [
    "with RandomForestClassifier the r2 score is 89%"
   ]
  },
  {
   "cell_type": "code",
   "execution_count": 49,
   "id": "fdf7c588",
   "metadata": {},
   "outputs": [
    {
     "name": "stdout",
     "output_type": "stream",
     "text": [
      "r2_score 81.68599210363637\n",
      "r2_score on training data 72.07303860509296\n",
      "mean absolute error :   0.3199994195230675\n",
      "mean squared error :  0.18975903282487352\n",
      "Root mean squared error :  0.4356133983532572\n"
     ]
    }
   ],
   "source": [
    "lr=LinearRegression()\n",
    "lr.fit(x_train,y_train)\n",
    "predlr=lr.predict(x_test)\n",
    "pred_train=lr.predict(x_train)\n",
    "print('r2_score',r2_score(y_test,predlr)*100)\n",
    "print('r2_score on training data',r2_score(y_train,pred_train)*100)\n",
    "print('mean absolute error :  ',mean_absolute_error(y_test,predlr) )\n",
    "print('mean squared error : ',mean_squared_error(y_test,predlr))\n",
    "print('Root mean squared error : ', np.sqrt(mean_squared_error(y_test,predlr)))"
   ]
  },
  {
   "cell_type": "markdown",
   "id": "db2a2393",
   "metadata": {},
   "source": [
    "with linearRegression r2 score is 81%"
   ]
  },
  {
   "cell_type": "code",
   "execution_count": 50,
   "id": "b506890a",
   "metadata": {},
   "outputs": [
    {
     "name": "stdout",
     "output_type": "stream",
     "text": [
      "R2 Score  90.86539081053314\n",
      "R2 score on train data  88.1615414435035\n",
      "Mean absolute error  0.1913001489400743\n",
      "Mean squared error  0.09464747502760465\n",
      "Root mean squared error  0.3076482976185707\n"
     ]
    }
   ],
   "source": [
    "gd=GradientBoostingRegressor()\n",
    "gd.fit(x_train,y_train)\n",
    "predgd=gd.predict(x_test)\n",
    "predgd_train=gd.predict(x_train)\n",
    "print('R2 Score ',r2_score(y_test,predgd)*100)\n",
    "print('R2 score on train data ',r2_score(y_train,predgd_train)*100)\n",
    "print('Mean absolute error ',mean_absolute_error(y_test,predgd))\n",
    "print('Mean squared error ', mean_squared_error(y_test,predgd))\n",
    "print('Root mean squared error ',np.sqrt(mean_squared_error(y_test,predgd)))"
   ]
  },
  {
   "cell_type": "markdown",
   "id": "90474f96",
   "metadata": {},
   "source": [
    "with Gradient Boosting r2 score 90%"
   ]
  },
  {
   "cell_type": "code",
   "execution_count": 51,
   "id": "bd4b4b3d",
   "metadata": {},
   "outputs": [
    {
     "name": "stdout",
     "output_type": "stream",
     "text": [
      "R2 score  86.1611853042025\n",
      "R2 score on train  81.03328477461622\n",
      "Mean absolute error  0.3240861491866352\n",
      "Mean squared error  0.1433896996756562\n",
      "Root mean squared error  0.3786683240986183\n"
     ]
    }
   ],
   "source": [
    "Ad=AdaBoostRegressor()\n",
    "Ad.fit(x_train,y_train)\n",
    "predad=Ad.predict(x_test)\n",
    "predad_train=Ad.predict(x_train)\n",
    "print('R2 score ',r2_score(y_test,predad)*100)\n",
    "print('R2 score on train ',r2_score(y_train,predad_train)*100)\n",
    "print('Mean absolute error ', mean_absolute_error(y_test,predad))\n",
    "print('Mean squared error ', mean_squared_error(y_test,predad))\n",
    "print('Root mean squared error ', np.sqrt(mean_squared_error(y_test,predad)))"
   ]
  },
  {
   "cell_type": "markdown",
   "id": "cfebc350",
   "metadata": {},
   "source": [
    "r2 score is 83% with the Adaboost"
   ]
  },
  {
   "cell_type": "code",
   "execution_count": 52,
   "id": "3435e356",
   "metadata": {},
   "outputs": [
    {
     "name": "stdout",
     "output_type": "stream",
     "text": [
      "R2 score  83.32259071743376\n",
      "R2 score on train  99.78919273052044\n",
      "Mean absolute error 0.22472494691912115\n",
      "Mean sqaured error 0.1728015556940274\n",
      "Root mean squared error  0.41569406502141376\n"
     ]
    }
   ],
   "source": [
    "Et=ExtraTreesRegressor()\n",
    "Et.fit(x_train,y_train)\n",
    "predet=Et.predict(x_test)\n",
    "predet_train=Et.predict(x_train)\n",
    "print('R2 score ',r2_score(y_test,predet)*100)\n",
    "print('R2 score on train ',r2_score(y_train,predet_train)*100)\n",
    "print('Mean absolute error', mean_absolute_error(y_test,predet))\n",
    "print('Mean sqaured error',mean_squared_error(y_test,predet))\n",
    "print('Root mean squared error ', np.sqrt(mean_squared_error(y_test,predet)))"
   ]
  },
  {
   "cell_type": "markdown",
   "id": "8095d4cc",
   "metadata": {},
   "source": [
    "r2 score is 83% with the ExtraTreeclassifier"
   ]
  },
  {
   "cell_type": "code",
   "execution_count": 53,
   "id": "9eec3497",
   "metadata": {},
   "outputs": [
    {
     "name": "stdout",
     "output_type": "stream",
     "text": [
      "R2 score  87.26821079921625\n",
      "R2 score on train  96.08499121203664\n",
      "Mean absolute error  0.2077997167806679\n",
      "Mean sqaured error  0.13191934930587204\n",
      "Root mean squared error  0.36320703366795093\n"
     ]
    }
   ],
   "source": [
    "bg=BaggingRegressor()\n",
    "bg.fit(x_train,y_train)\n",
    "predbg=bg.predict(x_test)\n",
    "predbg_train=bg.predict(x_train)\n",
    "print('R2 score ',r2_score(y_test,predbg)*100)\n",
    "print('R2 score on train ', r2_score(y_train,predbg_train)*100)\n",
    "print('Mean absolute error ', mean_absolute_error(y_test,predbg))\n",
    "print('Mean sqaured error ', mean_squared_error(y_test,predbg))\n",
    "print('Root mean squared error ', np.sqrt(mean_squared_error(y_test,predbg)))"
   ]
  },
  {
   "cell_type": "markdown",
   "id": "a673b69e",
   "metadata": {},
   "source": [
    "r2 score is 88% with the Bagging regressor"
   ]
  },
  {
   "cell_type": "code",
   "execution_count": 54,
   "id": "21fcdb9b",
   "metadata": {},
   "outputs": [
    {
     "name": "stdout",
     "output_type": "stream",
     "text": [
      "R2 score  75.3221867052711\n",
      "R2 score on train  99.78919273052044\n",
      "Mean sqaured error  0.25569706038896967\n",
      "Mean absolute error  0.2340445943006981\n",
      "Root mean sqaured error  0.5056649685206299\n"
     ]
    }
   ],
   "source": [
    "from sklearn.tree import DecisionTreeRegressor as dtr\n",
    "dtc=dtr()\n",
    "dtc.fit(x_train,y_train)\n",
    "preddtc=dtc.predict(x_test)\n",
    "preddtc_train=dtc.predict(x_train)\n",
    "print('R2 score ',r2_score(y_test,preddtc)*100)\n",
    "print('R2 score on train ',r2_score(y_train,preddtc_train)*100)\n",
    "print('Mean sqaured error ',mean_squared_error(y_test,preddtc))\n",
    "print('Mean absolute error ', mean_absolute_error(y_test,preddtc))\n",
    "print('Root mean sqaured error ', np.sqrt(mean_squared_error(y_test,preddtc)))"
   ]
  },
  {
   "cell_type": "markdown",
   "id": "4bb5f448",
   "metadata": {},
   "source": [
    "r2 score is 75% only with decisiontreeregressor"
   ]
  },
  {
   "cell_type": "code",
   "execution_count": 55,
   "id": "dde2116b",
   "metadata": {},
   "outputs": [
    {
     "name": "stdout",
     "output_type": "stream",
     "text": [
      "R2 score  -0.4828250231635023\n",
      "R2 score on train  0.0\n",
      "Mean absolute error  0.7809653199753681\n",
      "Mean squared error  1.0411442323169728\n",
      "Root mean squared error  1.0203647545446544\n",
      "\n",
      "\n",
      "R2 score  81.67075806173217\n",
      "R2 score on train data  72.07295208529435\n",
      "Mean absolute error  0.32021991516440207\n",
      "Mean squared error  0.18991687905242294\n",
      "Root mean squared error  0.43579453765785425\n",
      "\n",
      "\n",
      "R2 score  24.829906211292986\n",
      "R2 score on train data 23.697524868474172\n",
      "Mean absolute error  0.661934943575923\n",
      "Mean squared error  0.7788685237780376\n",
      "Root mean sqaured error  0.8825352818885133\n"
     ]
    }
   ],
   "source": [
    "ls=Lasso()\n",
    "ls.fit(x_train,y_train)\n",
    "predls=ls.predict(x_test)\n",
    "predls_train=ls.predict(x_train)\n",
    "print('R2 score ',r2_score(y_test,predls)*100)\n",
    "print('R2 score on train ', r2_score(y_train,predls_train)*100)\n",
    "print('Mean absolute error ',mean_absolute_error(y_test,predls))\n",
    "print('Mean squared error ',mean_squared_error(y_test,predls))\n",
    "print('Root mean squared error ', np.sqrt(mean_squared_error(y_test,predls)))\n",
    "print('\\n')\n",
    "\n",
    "rd=Ridge()\n",
    "rd.fit(x_train,y_train)\n",
    "predrd=rd.predict(x_test)\n",
    "predrd_train=rd.predict(x_train)\n",
    "print('R2 score ', r2_score(y_test,predrd)*100)\n",
    "print('R2 score on train data ', r2_score(y_train,predrd_train)*100)\n",
    "print('Mean absolute error ',mean_absolute_error(y_test,predrd))\n",
    "print('Mean squared error ', mean_squared_error(y_test,predrd))\n",
    "print('Root mean squared error ',np.sqrt(mean_squared_error(y_test,predrd)))\n",
    "print('\\n')\n",
    "\n",
    "el=ElasticNet()\n",
    "el.fit(x_train,y_train)\n",
    "predel=el.predict(x_test)\n",
    "predel_train=el.predict(x_train)\n",
    "print('R2 score ',r2_score(y_test,predel)*100)\n",
    "print('R2 score on train data',r2_score(y_train,predel_train)*100)\n",
    "print('Mean absolute error ',mean_absolute_error(y_test,predel))\n",
    "print('Mean squared error ',mean_squared_error(y_test,predel))\n",
    "print('Root mean sqaured error ', np.sqrt(mean_squared_error(y_test,predel)))"
   ]
  },
  {
   "cell_type": "markdown",
   "id": "df0e272b",
   "metadata": {},
   "source": [
    "lasso,ridge and elasticnet only Ridge regressor has good r2 score that is 81%"
   ]
  },
  {
   "cell_type": "code",
   "execution_count": 56,
   "id": "d87d5941",
   "metadata": {},
   "outputs": [],
   "source": [
    "from sklearn.model_selection import cross_val_score"
   ]
  },
  {
   "cell_type": "markdown",
   "id": "40ee91a8",
   "metadata": {},
   "source": [
    "to find the best fitting model use cross validation technique , it devides the all the data into equal number of folds and predicts the best score "
   ]
  },
  {
   "cell_type": "code",
   "execution_count": 57,
   "id": "2ffaef9c",
   "metadata": {},
   "outputs": [
    {
     "name": "stdout",
     "output_type": "stream",
     "text": [
      "GradientBoosting\n",
      "[0.87804244 0.80106853 0.87809797 0.84259615 0.86020487]\n",
      "85.20019903442939\n",
      "Difference b/w R2 score and cross validation score -84.29154512632405\n",
      "\n",
      "\n",
      "BaggingRegressor\n",
      "[0.85609736 0.7647643  0.8216373  0.80601559 0.82211768]\n",
      "81.41264463100354\n",
      "Difference b/w R2 score and cross validation score 5.855566168212711\n",
      "\n",
      "\n",
      "ExtraTree\n",
      "[0.81595643 0.7493867  0.80628372 0.79039617 0.80887688]\n",
      "79.41799809698996\n",
      "Difference b/w the R2 score and cross validation score is  3.904592620443792\n",
      "\n",
      "\n",
      "ADA boost\n",
      "[0.84353446 0.78835753 0.8251904  0.80922373 0.83743253]\n",
      "82.07477304245755\n",
      "Difference b/w the R2 score and cross validation score is  4.086412261744954\n",
      "\n",
      "\n",
      "LinearRegression\n",
      "[0.76266023 0.7128933  0.77893527 0.72844385 0.76730718]\n",
      "75.00479645553095\n",
      "Difference b/w the R2 score and cross validation score is  6.681195648105409\n",
      "\n",
      "\n",
      "DecisionTree\n",
      "[0.74364426 0.67041875 0.69772192 0.73968048 0.66394339]\n",
      "70.30817602450689\n",
      "Difference b/w the R2 score and Cross validation score  5.014010680764203\n",
      "\n",
      "\n",
      "Lasso\n",
      "[-2.43346272e-03 -1.23754298e-06 -4.34344063e-03 -1.89168284e-04\n",
      " -1.01588623e-05]\n",
      "-0.13954936068368617\n",
      "Difference b/w the R2 score and Cross validation score  -0.3432756624798161\n",
      "\n",
      "\n",
      "Ridge\n",
      "[0.76264276 0.71294647 0.77884336 0.72851226 0.76730267]\n",
      "75.00495048899454\n",
      "Difference b/w the R2 score and Cross validation score  6.665807572737636\n",
      "\n",
      "\n",
      "ElasticNet\n",
      "[0.24877652 0.2579344  0.26456548 0.25853731 0.27501468]\n",
      "26.096567887065248\n",
      "Difference b/w the R2 score and Cross validation score  -1.2666616757722626\n",
      "\n",
      "\n"
     ]
    }
   ],
   "source": [
    "print('GradientBoosting')\n",
    "score=cross_val_score(gd,x,y,cv=5)\n",
    "print(score)\n",
    "print(score.mean()*100)\n",
    "print('Difference b/w R2 score and cross validation score',(r2_score(y_test,predgd))-(score.mean())*100)\n",
    "print('\\n')\n",
    "\n",
    "print('BaggingRegressor')\n",
    "score=cross_val_score(bg,x,y,cv=5)\n",
    "print(score)\n",
    "print(score.mean()*100)\n",
    "print('Difference b/w R2 score and cross validation score', (r2_score(y_test,predbg)-(score.mean()))*100)\n",
    "print('\\n')\n",
    "\n",
    "print('ExtraTree')\n",
    "score=cross_val_score(Et,x,y,cv=5)\n",
    "print(score)\n",
    "print(score.mean()*100)\n",
    "print('Difference b/w the R2 score and cross validation score is ',(r2_score(y_test,predet)-(score.mean()))*100)\n",
    "print('\\n')\n",
    "\n",
    "print('ADA boost')\n",
    "score=cross_val_score(Ad,x,y,cv=5)\n",
    "print(score)\n",
    "print(score.mean()*100)\n",
    "print('Difference b/w the R2 score and cross validation score is ',(r2_score(y_test,predad)-(score.mean()))*100)\n",
    "print('\\n')\n",
    "\n",
    "print('LinearRegression')\n",
    "score=cross_val_score(lr,x,y,cv=5)\n",
    "print(score)\n",
    "print(score.mean()*100)\n",
    "print('Difference b/w the R2 score and cross validation score is ',(r2_score(y_test,predlr)-(score.mean()))*100)\n",
    "print('\\n')\n",
    "\n",
    "\n",
    "print('DecisionTree')\n",
    "score=cross_val_score(dtc,x,y,cv=5)\n",
    "print(score)\n",
    "print(score.mean()*100)\n",
    "print('Difference b/w the R2 score and Cross validation score ',(r2_score(y_test,preddtc)-(score.mean()))*100)\n",
    "print('\\n')\n",
    "\n",
    "print('Lasso')\n",
    "score=cross_val_score(ls,x,y,cv=5)\n",
    "print(score)\n",
    "print(score.mean()*100)\n",
    "print('Difference b/w the R2 score and Cross validation score ',(r2_score(y_test,predls)-(score.mean()))*100)\n",
    "print('\\n')\n",
    "\n",
    "print('Ridge')\n",
    "score=cross_val_score(rd,x,y,cv=5)\n",
    "print(score)\n",
    "print(score.mean()*100)\n",
    "print('Difference b/w the R2 score and Cross validation score ',(r2_score(y_test,predrd)-(score.mean()))*100)\n",
    "print('\\n')\n",
    "\n",
    "print('ElasticNet')\n",
    "score=cross_val_score(el,x,y,cv=5)\n",
    "print(score)\n",
    "print(score.mean()*100)\n",
    "print('Difference b/w the R2 score and Cross validation score ',(r2_score(y_test,predel)-(score.mean()))*100)\n",
    "print('\\n')"
   ]
  },
  {
   "cell_type": "markdown",
   "id": "f043d0e2",
   "metadata": {},
   "source": [
    "by looking the cross validation score of each model r2 score of GradientBoostingRegressor is the best model with r2_score 85%"
   ]
  },
  {
   "cell_type": "code",
   "execution_count": 58,
   "id": "78f0dce6",
   "metadata": {},
   "outputs": [],
   "source": [
    "from sklearn.model_selection import GridSearchCV"
   ]
  },
  {
   "cell_type": "markdown",
   "id": "9e17123c",
   "metadata": {},
   "source": [
    "to find best fitting parameters for my GradientBoostingregressor using the GridsearchCV"
   ]
  },
  {
   "cell_type": "code",
   "execution_count": 59,
   "id": "7b5f4eb5",
   "metadata": {},
   "outputs": [
    {
     "data": {
      "text/plain": [
       "GridSearchCV(cv=5, estimator=GradientBoostingRegressor(),\n",
       "             param_grid={'criterion': ['friedman_mse', 'mse', 'mae'],\n",
       "                         'learning_rate': (0.05, 0.25, 0.5, 1),\n",
       "                         'loss': ['ls', 'lad', 'huber', 'quantile'],\n",
       "                         'max_features': ['auto', 'sqrt', 'log2']})"
      ]
     },
     "execution_count": 59,
     "metadata": {},
     "output_type": "execute_result"
    }
   ],
   "source": [
    "param = { 'loss' : ['ls', 'lad', 'huber', 'quantile'],\n",
    "              'learning_rate' : (0.05,0.25,0.50,1),\n",
    "              'criterion' : ['friedman_mse', 'mse', 'mae'],\n",
    "              'max_features' : ['auto', 'sqrt', 'log2']\n",
    "             }\n",
    "gscv=GridSearchCV(GradientBoostingRegressor(),param,cv=5)\n",
    "gscv.fit(x_train,y_train)"
   ]
  },
  {
   "cell_type": "code",
   "execution_count": 60,
   "id": "52dccf09",
   "metadata": {},
   "outputs": [
    {
     "data": {
      "text/plain": [
       "{'criterion': 'mse',\n",
       " 'learning_rate': 0.05,\n",
       " 'loss': 'ls',\n",
       " 'max_features': 'auto'}"
      ]
     },
     "execution_count": 60,
     "metadata": {},
     "output_type": "execute_result"
    }
   ],
   "source": [
    "gscv.best_params_"
   ]
  },
  {
   "cell_type": "markdown",
   "id": "dfb7020c",
   "metadata": {},
   "source": [
    "best parameters given from gridsearchcv we are going to use in the model"
   ]
  },
  {
   "cell_type": "code",
   "execution_count": 61,
   "id": "a7790c9b",
   "metadata": {},
   "outputs": [],
   "source": [
    "model=GradientBoostingRegressor(criterion='mse',learning_rate=0.05,loss='ls',max_features='auto')"
   ]
  },
  {
   "cell_type": "code",
   "execution_count": 62,
   "id": "ebf1b883",
   "metadata": {},
   "outputs": [
    {
     "name": "stdout",
     "output_type": "stream",
     "text": [
      "R2 score  91.70940735944681\n",
      "Mean absolute error  0.18858064596735655\n",
      "Mean squared error  0.08590226944964668\n",
      "Root mean squared error  0.2930908894006204\n"
     ]
    }
   ],
   "source": [
    "model.fit(x_train,y_train)\n",
    "pred_model=model.predict(x_test)\n",
    "print('R2 score ', r2_score(y_test,pred_model)*100)\n",
    "print('Mean absolute error ',mean_absolute_error(y_test,pred_model))\n",
    "print('Mean squared error ', mean_squared_error(y_test,pred_model))\n",
    "print('Root mean squared error ',np.sqrt(mean_squared_error(y_test,pred_model)))      "
   ]
  },
  {
   "cell_type": "markdown",
   "id": "1fbc1299",
   "metadata": {},
   "source": [
    "after using the best parameters my model performing very well , r2 score is 91%"
   ]
  },
  {
   "cell_type": "code",
   "execution_count": 63,
   "id": "7c4cc505",
   "metadata": {},
   "outputs": [],
   "source": [
    "import pickle\n",
    "filename='medical_insurence'\n",
    "pickle.dump(model,open(filename,'wb'))"
   ]
  },
  {
   "cell_type": "markdown",
   "id": "d050933a",
   "metadata": {},
   "source": [
    "for saving the best model i am importing the pickle lybrari and giving the file name as medical_insurence"
   ]
  },
  {
   "cell_type": "code",
   "execution_count": 64,
   "id": "6803838c",
   "metadata": {},
   "outputs": [],
   "source": [
    "import pickle\n",
    "new_model=pickle.load(open('medical_insurence','rb'))"
   ]
  },
  {
   "cell_type": "markdown",
   "id": "15f41a77",
   "metadata": {},
   "source": [
    "loading the saved model from the jupyter notebook"
   ]
  },
  {
   "cell_type": "code",
   "execution_count": 65,
   "id": "b1b6c4df",
   "metadata": {},
   "outputs": [
    {
     "name": "stdout",
     "output_type": "stream",
     "text": [
      "91.70940735944681\n"
     ]
    }
   ],
   "source": [
    "score=new_model.score(x_test,y_test)\n",
    "print(score*100)"
   ]
  },
  {
   "cell_type": "markdown",
   "id": "7cce3496",
   "metadata": {},
   "source": [
    "conclusion :GradientBoostingRegressor is best model to predict my medical_insuence model "
   ]
  },
  {
   "cell_type": "code",
   "execution_count": null,
   "id": "dd53dc74",
   "metadata": {},
   "outputs": [],
   "source": []
  }
 ],
 "metadata": {
  "kernelspec": {
   "display_name": "Python 3 (ipykernel)",
   "language": "python",
   "name": "python3"
  },
  "language_info": {
   "codemirror_mode": {
    "name": "ipython",
    "version": 3
   },
   "file_extension": ".py",
   "mimetype": "text/x-python",
   "name": "python",
   "nbconvert_exporter": "python",
   "pygments_lexer": "ipython3",
   "version": "3.9.12"
  }
 },
 "nbformat": 4,
 "nbformat_minor": 5
}
